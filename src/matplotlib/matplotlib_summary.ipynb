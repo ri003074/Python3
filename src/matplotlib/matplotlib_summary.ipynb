{
 "cells": [
  {
   "cell_type": "code",
   "execution_count": 1,
   "id": "ef48a9f4-04fc-4315-8df1-fee5118a3b5c",
   "metadata": {},
   "outputs": [],
   "source": [
    "import matplotlib.pyplot as plt\n",
    "import numpy as np\n",
    "import pandas as pd"
   ]
  },
  {
   "cell_type": "markdown",
   "id": "8bf043f1-cc45-45ae-96f9-a8923be3efc1",
   "metadata": {},
   "source": [
    "### データを生成する"
   ]
  },
  {
   "cell_type": "code",
   "execution_count": 11,
   "id": "057685ae-936c-43cd-8245-04119b51cd42",
   "metadata": {},
   "outputs": [],
   "source": [
    "x = np.linspace(0, 10, 100)\n",
    "y = x + np.random.randn(100)\n",
    "\n",
    "x = [1, 2, 3]\n",
    "y = [4, 5, 6]\n",
    "\n",
    "x = [\"a\", \"b\", \"c\"]\n",
    "y = [4, 5, 6]"
   ]
  },
  {
   "cell_type": "code",
   "execution_count": null,
   "id": "f2c5ad8e-4ece-4a49-b1da-a65d54d74c5a",
   "metadata": {},
   "outputs": [],
   "source": []
  },
  {
   "cell_type": "markdown",
   "id": "f0895a69-118f-4390-8f89-6d599edf5581",
   "metadata": {},
   "source": [
    "### とりあえずグラフを作成してみる"
   ]
  },
  {
   "cell_type": "code",
   "execution_count": 12,
   "id": "0cf722d3-702e-430f-a75a-0ba20f466144",
   "metadata": {},
   "outputs": [
    {
     "data": {
      "text/plain": [
       "<matplotlib.legend.Legend at 0x2f66d7aff70>"
      ]
     },
     "execution_count": 12,
     "metadata": {},
     "output_type": "execute_result"
    },
    {
     "data": {
      "image/png": "[encoded data removed]",
      "text/plain": [
       "<Figure size 432x288 with 1 Axes>"
      ]
     },
     "metadata": {
      "needs_background": "light"
     },
     "output_type": "display_data"
    }
   ],
   "source": [
    "fig = plt.figure()  # figureオブジェクトを作成\n",
    "ax = fig.add_subplot(1, 1, 1)  # figureに属するaxesオブジェクトを作成\n",
    "ax.plot(x, y, label=\"test\")\n",
    "ax.legend()"
   ]
  },
  {
   "cell_type": "code",
   "execution_count": null,
   "id": "9c5ba51a-d342-49b7-9e83-d13c52c6f6e4",
   "metadata": {},
   "outputs": [],
   "source": []
  },
  {
   "cell_type": "markdown",
   "id": "cb63c2c7-f32e-4178-8972-ba1e939f8638",
   "metadata": {},
   "source": [
    "### DataFrameをグラフにする"
   ]
  },
  {
   "cell_type": "code",
   "execution_count": 165,
   "id": "bbd49f7e-3e91-47e7-a79e-088849310e94",
   "metadata": {},
   "outputs": [],
   "source": [
    "data = [{\"p1\": 1, \"p2\": 2}, {\"p1\": 3, \"p2\": 4}]\n",
    "\n",
    "df = pd.DataFrame(data, index=[\"test1\", \"test2_aaaaaaaaaaaaaaa\"])"
   ]
  },
  {
   "cell_type": "code",
   "execution_count": 166,
   "id": "4fa937c9-e8f3-4f3a-aca3-25fde18343a2",
   "metadata": {},
   "outputs": [
    {
     "data": {
      "text/html": [
       "<div>\n",
       "<style scoped>\n",
       "    .dataframe tbody tr th:only-of-type {\n",
       "        vertical-align: middle;\n",
       "    }\n",
       "\n",
       "    .dataframe tbody tr th {\n",
       "        vertical-align: top;\n",
       "    }\n",
       "\n",
       "    .dataframe thead th {\n",
       "        text-align: right;\n",
       "    }\n",
       "</style>\n",
       "<table border=\"1\" class=\"dataframe\">\n",
       "  <thead>\n",
       "    <tr style=\"text-align: right;\">\n",
       "      <th></th>\n",
       "      <th>p1</th>\n",
       "      <th>p2</th>\n",
       "    </tr>\n",
       "  </thead>\n",
       "  <tbody>\n",
       "    <tr>\n",
       "      <th>test1</th>\n",
       "      <td>1</td>\n",
       "      <td>2</td>\n",
       "    </tr>\n",
       "    <tr>\n",
       "      <th>test2_aaaaaaaaaaaaaaa</th>\n",
       "      <td>3</td>\n",
       "      <td>4</td>\n",
       "    </tr>\n",
       "  </tbody>\n",
       "</table>\n",
       "</div>"
      ],
      "text/plain": [
       "                       p1  p2\n",
       "test1                   1   2\n",
       "test2_aaaaaaaaaaaaaaa   3   4"
      ]
     },
     "execution_count": 166,
     "metadata": {},
     "output_type": "execute_result"
    }
   ],
   "source": [
    "df"
   ]
  },
  {
   "cell_type": "code",
   "execution_count": 167,
   "id": "533ac26f-8b2d-4e8e-bedf-79c92f63c64d",
   "metadata": {},
   "outputs": [
    {
     "data": {
      "text/plain": [
       "<AxesSubplot:>"
      ]
     },
     "execution_count": 167,
     "metadata": {},
     "output_type": "execute_result"
    },
    {
     "data": {
      "image/png": "[encoded data removed]",
      "text/plain": [
       "<Figure size 432x288 with 1 Axes>"
      ]
     },
     "metadata": {
      "needs_background": "light"
     },
     "output_type": "display_data"
    }
   ],
   "source": [
    "fig = plt.figure()\n",
    "ax = fig.add_subplot(1, 1, 1)\n",
    "ax.set_xticks([0, 1])  # メモリ位置のリスト\n",
    "# ax.set_xticklabels([\"a\", \"b\"])  # 表示値のリスト\n",
    "\n",
    "# axでplotするとこうなる？\n",
    "# ax.plot(df[\"p1\"], label=\"p1\", linestyle=\"-\", marker=\"\", markersize=15)\n",
    "# ax.plot(df[\"p2\"], label=\"p2\", linestyle=\"\", marker=\".\", markersize=10)\n",
    "# ax.legend()\n",
    "\n",
    "# dfでプロットするとこれ。結果は同じ\n",
    "df.plot(ax=ax, legend=True)"
   ]
  },
  {
   "cell_type": "code",
   "execution_count": null,
   "id": "a3a120f9-7b6f-4228-b22d-bf7ea24d93ed",
   "metadata": {},
   "outputs": [],
   "source": []
  },
  {
   "cell_type": "markdown",
   "id": "83cc9f32-8561-43ca-8d07-e7e4b672b67d",
   "metadata": {},
   "source": [
    "### グラフのタイトルを表示する"
   ]
  },
  {
   "cell_type": "code",
   "execution_count": 62,
   "id": "1a60ebb9-789c-40e0-b583-c9cd98e45083",
   "metadata": {},
   "outputs": [
    {
     "data": {
      "text/plain": [
       "<AxesSubplot:>"
      ]
     },
     "execution_count": 62,
     "metadata": {},
     "output_type": "execute_result"
    },
    {
     "data": {
      "image/png": "[encoded data removed]",
      "text/plain": [
       "<Figure size 432x288 with 1 Axes>"
      ]
     },
     "metadata": {
      "needs_background": "light"
     },
     "output_type": "display_data"
    }
   ],
   "source": [
    "fig = plt.figure()\n",
    "ax = fig.add_subplot(1, 1, 1)\n",
    "fig.suptitle(\"title\")\n",
    "df.plot(ax=ax, legend=True)"
   ]
  },
  {
   "cell_type": "code",
   "execution_count": null,
   "id": "9cbfaf4a-a761-494a-aa38-355a1753d4aa",
   "metadata": {},
   "outputs": [],
   "source": []
  },
  {
   "cell_type": "markdown",
   "id": "6961f64d-3047-4af4-b595-9f9909ee3627",
   "metadata": {},
   "source": [
    "### グラフに線を引く"
   ]
  },
  {
   "cell_type": "code",
   "execution_count": 171,
   "id": "9014ceff-7ba9-43cb-9332-f27e75b9a440",
   "metadata": {},
   "outputs": [],
   "source": [
    "data = [{\"p1\": 1, \"p2\": 2, \"p3\": 3}, {\"p1\": 3, \"p2\": 4, \"p3\": 3}]\n",
    "\n",
    "df = pd.DataFrame(data, index=[\"test1\", \"test2\"])"
   ]
  },
  {
   "cell_type": "code",
   "execution_count": 172,
   "id": "d4219d24-13c7-4ae1-864a-5707c0a6b2e3",
   "metadata": {},
   "outputs": [
    {
     "data": {
      "text/plain": [
       "<matplotlib.legend.Legend at 0x2f679167dc0>"
      ]
     },
     "execution_count": 172,
     "metadata": {},
     "output_type": "execute_result"
    },
    {
     "data": {
      "image/png": "[encoded data removed]",
      "text/plain": [
       "<Figure size 432x288 with 1 Axes>"
      ]
     },
     "metadata": {
      "needs_background": "light"
     },
     "output_type": "display_data"
    }
   ],
   "source": [
    "fig = plt.figure()\n",
    "ax = fig.add_subplot(1, 1, 1)\n",
    "ax.set_xticks([0, 1])  # メモリ位置のリスト\n",
    "ax.plot(df[\"p1\"], label=\"p1\", linestyle=\"-\", marker=\"\", markersize=15)\n",
    "ax.plot(df[\"p2\"], label=\"p2\", linestyle=\"\", marker=\".\", markersize=10)\n",
    "ax.hlines(\n",
    "    y=[2.0, 3.5],\n",
    "    xmin=0,\n",
    "    xmax=1,\n",
    "    linestyles={\"dashed\"},\n",
    "    colors=[\"black\", \"green\"],\n",
    "    label=\"limit-min\",\n",
    ")\n",
    "ax.set_ylim(0, 5)\n",
    "ax.set_ylabel(\"abc\")\n",
    "ax.legend()"
   ]
  },
  {
   "cell_type": "code",
   "execution_count": null,
   "id": "063a8882-fa6e-4c1f-ae8b-371459c1b50a",
   "metadata": {},
   "outputs": [],
   "source": []
  },
  {
   "cell_type": "code",
   "execution_count": null,
   "id": "ed2896c9-2475-4d23-9780-5d641910b1f2",
   "metadata": {},
   "outputs": [],
   "source": []
  },
  {
   "cell_type": "code",
   "execution_count": 173,
   "id": "5426a759-9457-42cc-8235-e872ee1d5209",
   "metadata": {},
   "outputs": [],
   "source": [
    "data = [\n",
    "    {\"pin\": \"P1857A1_aaaaaaaaaaaaa\", \"tr\": 40, \"tf\": 45},\n",
    "    {\"pin\": \"P1857A2\", \"tr\": 45, \"tf\": 55},\n",
    "    {\"pin\": \"P1857A3\", \"tr\": 50, \"tf\": 65},\n",
    "]\n",
    "\n",
    "df = pd.DataFrame(data)\n",
    "df = df.set_index(\"pin\")"
   ]
  },
  {
   "cell_type": "code",
   "execution_count": 174,
   "id": "585b040f-7b85-4c54-9281-fa9c7ff86af2",
   "metadata": {},
   "outputs": [
    {
     "data": {
      "text/html": [
       "<div>\n",
       "<style scoped>\n",
       "    .dataframe tbody tr th:only-of-type {\n",
       "        vertical-align: middle;\n",
       "    }\n",
       "\n",
       "    .dataframe tbody tr th {\n",
       "        vertical-align: top;\n",
       "    }\n",
       "\n",
       "    .dataframe thead th {\n",
       "        text-align: right;\n",
       "    }\n",
       "</style>\n",
       "<table border=\"1\" class=\"dataframe\">\n",
       "  <thead>\n",
       "    <tr style=\"text-align: right;\">\n",
       "      <th></th>\n",
       "      <th>tr</th>\n",
       "      <th>tf</th>\n",
       "    </tr>\n",
       "    <tr>\n",
       "      <th>pin</th>\n",
       "      <th></th>\n",
       "      <th></th>\n",
       "    </tr>\n",
       "  </thead>\n",
       "  <tbody>\n",
       "    <tr>\n",
       "      <th>P1857A1_aaaaaaaaaaaaa</th>\n",
       "      <td>40</td>\n",
       "      <td>45</td>\n",
       "    </tr>\n",
       "    <tr>\n",
       "      <th>P1857A2</th>\n",
       "      <td>45</td>\n",
       "      <td>55</td>\n",
       "    </tr>\n",
       "    <tr>\n",
       "      <th>P1857A3</th>\n",
       "      <td>50</td>\n",
       "      <td>65</td>\n",
       "    </tr>\n",
       "  </tbody>\n",
       "</table>\n",
       "</div>"
      ],
      "text/plain": [
       "                       tr  tf\n",
       "pin                          \n",
       "P1857A1_aaaaaaaaaaaaa  40  45\n",
       "P1857A2                45  55\n",
       "P1857A3                50  65"
      ]
     },
     "execution_count": 174,
     "metadata": {},
     "output_type": "execute_result"
    }
   ],
   "source": [
    "df"
   ]
  },
  {
   "cell_type": "code",
   "execution_count": 182,
   "id": "f14e905d-5a10-4da3-aa1d-421e3dbce62e",
   "metadata": {},
   "outputs": [
    {
     "data": {
      "image/png": "[encoded data removed]",
      "text/plain": [
       "<Figure size 1152x648 with 1 Axes>"
      ]
     },
     "metadata": {
      "needs_background": "light"
     },
     "output_type": "display_data"
    },
    {
     "data": {
      "text/plain": [
       "<Figure size 432x288 with 0 Axes>"
      ]
     },
     "metadata": {},
     "output_type": "display_data"
    }
   ],
   "source": [
    "fig = plt.figure(figsize=(16, 9))\n",
    "ax = fig.add_subplot(1, 1, 1)\n",
    "ax.plot(df[\"tr\"], label=\"tr\", linestyle=\"\", marker=\".\", markersize=15)\n",
    "ax.plot(df[\"tf\"], label=\"tf\", linestyle=\"-\", marker=\"^\", markersize=15)\n",
    "ax.set_ylim(-10, 70)\n",
    "\n",
    "ax.set_ylabel(\"ps\")\n",
    "ax.set_title(\"tr/tf\")\n",
    "ax.set_yticks([-10, 30, 40, 60, 70])\n",
    "ax.legend(loc=\"lower right\")\n",
    "ax.hlines(\n",
    "    y=[60],\n",
    "    xmin=0,\n",
    "    xmax=2,\n",
    "    linestyles={\"dashed\"},\n",
    "    colors=[\"gray\", \"green\"],\n",
    "    label=\"limit-min\",\n",
    ")\n",
    "ax.grid(axis=\"y\")\n",
    "ax.yaxis.set_major_formatter(plt.FormatStrFormatter(\"%.1f\"))\n",
    "# ax.set_xticklabels(df.index.values,rotation=45, ha=\"center\")\n",
    "ax.tick_params(axis=\"x\", rotation=45)\n",
    "# fig.subplots_adjust(bottom=0.2)\n",
    "# ax.minorticks_on()\n",
    "plt.show()\n",
    "plt.savefig(\"a.png\")"
   ]
  },
  {
   "cell_type": "code",
   "execution_count": null,
   "id": "86632a1d-c193-4377-b588-f53e94e0eb5f",
   "metadata": {},
   "outputs": [],
   "source": []
  },
  {
   "cell_type": "code",
   "execution_count": null,
   "id": "46611578-48a0-490b-bcf6-cd1abc6c0b13",
   "metadata": {},
   "outputs": [],
   "source": []
  },
  {
   "cell_type": "code",
   "execution_count": null,
   "id": "dd3caf0d-9dc2-47e5-bc2e-936cc8e06205",
   "metadata": {},
   "outputs": [],
   "source": []
  },
  {
   "cell_type": "code",
   "execution_count": null,
   "id": "be56c357-31d1-4737-949e-8f40c946e4ff",
   "metadata": {},
   "outputs": [],
   "source": []
  },
  {
   "cell_type": "code",
   "execution_count": null,
   "id": "8639ee76-320a-41a3-9481-1b85112e060a",
   "metadata": {},
   "outputs": [],
   "source": []
  },
  {
   "cell_type": "code",
   "execution_count": null,
   "id": "35dd5ce8-8eb7-427b-8f97-b60532e31e07",
   "metadata": {},
   "outputs": [],
   "source": []
  },
  {
   "cell_type": "code",
   "execution_count": null,
   "id": "b01eda6a-477d-480f-957a-02d4de0e3ee3",
   "metadata": {},
   "outputs": [],
   "source": []
  },
  {
   "cell_type": "code",
   "execution_count": null,
   "id": "ec3b2582-1489-492e-a17d-e67d5a51de8e",
   "metadata": {},
   "outputs": [],
   "source": []
  }
 ],
 "metadata": {
  "kernelspec": {
   "display_name": "Python 3",
   "language": "python",
   "name": "python3"
  },
  "language_info": {
   "codemirror_mode": {
    "name": "ipython",
    "version": 3
   },
   "file_extension": ".py",
   "mimetype": "text/x-python",
   "name": "python",
   "nbconvert_exporter": "python",
   "pygments_lexer": "ipython3",
   "version": "3.8.8"
  }
 },
 "nbformat": 4,
 "nbformat_minor": 5
}
