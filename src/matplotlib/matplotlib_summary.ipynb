{
 "cells": [
  {
   "cell_type": "code",
   "execution_count": 43,
   "id": "ef48a9f4-04fc-4315-8df1-fee5118a3b5c",
   "metadata": {},
   "outputs": [],
   "source": [
    "import numpy as np\n",
    "import pandas as pd\n",
    "\n",
    "import matplotlib.pyplot as plt"
   ]
  },
  {
   "cell_type": "markdown",
   "id": "8bf043f1-cc45-45ae-96f9-a8923be3efc1",
   "metadata": {},
   "source": [
    "### データを生成する"
   ]
  },
  {
   "cell_type": "code",
   "execution_count": 44,
   "id": "63818e93-472c-4c5a-b5eb-2ad71f537949",
   "metadata": {},
   "outputs": [],
   "source": [
    "x = np.linspace(0, 10, 100)\n",
    "y = x + np.random.randn(100)"
   ]
  },
  {
   "cell_type": "code",
   "execution_count": 45,
   "id": "2e384aa0-1fa5-4f4e-b317-d49c4b7d003f",
   "metadata": {},
   "outputs": [],
   "source": [
    "x = [1, 2, 3]\n",
    "y = [4, 5, 6]"
   ]
  },
  {
   "cell_type": "code",
   "execution_count": 46,
   "id": "c4f0250f-c0f0-4a77-b152-736032cf483a",
   "metadata": {},
   "outputs": [],
   "source": [
    "x = [\"a\", \"b\", \"c\"]\n",
    "y = [4, 5, 6]"
   ]
  },
  {
   "cell_type": "markdown",
   "id": "f0895a69-118f-4390-8f89-6d599edf5581",
   "metadata": {},
   "source": [
    "### とりあえずグラフを作成してみる"
   ]
  },
  {
   "cell_type": "code",
   "execution_count": 47,
   "id": "0cf722d3-702e-430f-a75a-0ba20f466144",
   "metadata": {},
   "outputs": [
    {
     "data": {
      "text/plain": [
       "<matplotlib.legend.Legend at 0x207df030c10>"
      ]
     },
     "execution_count": 47,
     "metadata": {},
     "output_type": "execute_result"
    },
    {
     "data": {
      "image/png": "[encoded data removed]",
      "text/plain": [
       "<Figure size 432x288 with 1 Axes>"
      ]
     },
     "metadata": {
      "needs_background": "light"
     },
     "output_type": "display_data"
    }
   ],
   "source": [
    "fig = plt.figure()  # figureオブジェクトを作成\n",
    "ax = fig.add_subplot(1, 1, 1)  # figureに属するaxesオブジェクトを作成\n",
    "ax.plot(x, y, label=\"test\")\n",
    "ax.legend()"
   ]
  },
  {
   "cell_type": "markdown",
   "id": "cb63c2c7-f32e-4178-8972-ba1e939f8638",
   "metadata": {},
   "source": [
    "### DataFrameをグラフにする"
   ]
  },
  {
   "cell_type": "code",
   "execution_count": 58,
   "id": "17d433c7-feac-41ae-bb0c-f67e0387792b",
   "metadata": {},
   "outputs": [],
   "source": [
    "data = [{\"p1\": 1, \"p2\": 2}, {\"p1\": 3, \"p2\": 4}]"
   ]
  },
  {
   "cell_type": "code",
   "execution_count": 59,
   "id": "912fb283-619d-495f-bc5f-4c782c32f177",
   "metadata": {},
   "outputs": [],
   "source": [
    "df = pd.DataFrame(data, index=[\"p1\", \"p2\"])"
   ]
  },
  {
   "cell_type": "code",
   "execution_count": 60,
   "id": "b09290bb-825f-425c-ac4f-e49cfdf8d698",
   "metadata": {},
   "outputs": [
    {
     "data": {
      "text/html": [
       "<div>\n",
       "<style scoped>\n",
       "    .dataframe tbody tr th:only-of-type {\n",
       "        vertical-align: middle;\n",
       "    }\n",
       "\n",
       "    .dataframe tbody tr th {\n",
       "        vertical-align: top;\n",
       "    }\n",
       "\n",
       "    .dataframe thead th {\n",
       "        text-align: right;\n",
       "    }\n",
       "</style>\n",
       "<table border=\"1\" class=\"dataframe\">\n",
       "  <thead>\n",
       "    <tr style=\"text-align: right;\">\n",
       "      <th></th>\n",
       "      <th>p1</th>\n",
       "      <th>p2</th>\n",
       "    </tr>\n",
       "  </thead>\n",
       "  <tbody>\n",
       "    <tr>\n",
       "      <th>p1</th>\n",
       "      <td>1</td>\n",
       "      <td>2</td>\n",
       "    </tr>\n",
       "    <tr>\n",
       "      <th>p2</th>\n",
       "      <td>3</td>\n",
       "      <td>4</td>\n",
       "    </tr>\n",
       "  </tbody>\n",
       "</table>\n",
       "</div>"
      ],
      "text/plain": [
       "    p1  p2\n",
       "p1   1   2\n",
       "p2   3   4"
      ]
     },
     "execution_count": 60,
     "metadata": {},
     "output_type": "execute_result"
    }
   ],
   "source": [
    "df"
   ]
  },
  {
   "cell_type": "code",
   "execution_count": 65,
   "id": "b9400447-20a0-4707-ac6a-54080d82b81d",
   "metadata": {},
   "outputs": [
    {
     "data": {
      "text/plain": [
       "<AxesSubplot:>"
      ]
     },
     "execution_count": 65,
     "metadata": {},
     "output_type": "execute_result"
    },
    {
     "data": {
      "image/png": "[encoded data removed]",
      "text/plain": [
       "<Figure size 432x288 with 1 Axes>"
      ]
     },
     "metadata": {
      "needs_background": "light"
     },
     "output_type": "display_data"
    }
   ],
   "source": [
    "fig = plt.figure()\n",
    "ax = fig.add_subplot(1, 1, 1)\n",
    "ax.set_xticks([0, 1])  # メモリ位置のリスト\n",
    "ax.set_xticklabels([\"a\", \"b\"])  # 表示値のリスト\n",
    "df.plot(ax=ax)"
   ]
  },
  {
   "cell_type": "code",
   "execution_count": null,
   "id": "7699bf08-b9e4-4159-8bd0-d960de26b8ce",
   "metadata": {},
   "outputs": [],
   "source": []
  },
  {
   "cell_type": "code",
   "execution_count": null,
   "id": "62e1f11e-2cca-4b79-8089-3fec73f58f9d",
   "metadata": {},
   "outputs": [],
   "source": []
  },
  {
   "cell_type": "code",
   "execution_count": null,
   "id": "717daf65-3df7-4fc3-82b0-b2b83931b494",
   "metadata": {},
   "outputs": [],
   "source": []
  },
  {
   "cell_type": "code",
   "execution_count": null,
   "id": "9cbfaf4a-a761-494a-aa38-355a1753d4aa",
   "metadata": {},
   "outputs": [],
   "source": []
  },
  {
   "cell_type": "code",
   "execution_count": null,
   "id": "adb8696b-8d63-4eb5-a239-885ff4835307",
   "metadata": {},
   "outputs": [],
   "source": []
  },
  {
   "cell_type": "code",
   "execution_count": null,
   "id": "9014ceff-7ba9-43cb-9332-f27e75b9a440",
   "metadata": {},
   "outputs": [],
   "source": []
  },
  {
   "cell_type": "code",
   "execution_count": null,
   "id": "d4219d24-13c7-4ae1-864a-5707c0a6b2e3",
   "metadata": {},
   "outputs": [],
   "source": [
    "\n",
    "\n"
   ]
  }
 ],
 "metadata": {
  "kernelspec": {
   "display_name": "Python 3",
   "language": "python",
   "name": "python3"
  },
  "language_info": {
   "codemirror_mode": {
    "name": "ipython",
    "version": 3
   },
   "file_extension": ".py",
   "mimetype": "text/x-python",
   "name": "python",
   "nbconvert_exporter": "python",
   "pygments_lexer": "ipython3",
   "version": "3.8.8"
  }
 },
 "nbformat": 4,
 "nbformat_minor": 5
}
