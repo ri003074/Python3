{
 "cells": [
  {
   "cell_type": "code",
   "execution_count": 2,
   "id": "9eef1508-ce8a-4c3b-b827-402a875c85a1",
   "metadata": {},
   "outputs": [],
   "source": [
    "from matplotlib.testing.decorators import image_comparison\n",
    "import matplotlib.pyplot as plt\n",
    "\n",
    "@image_comparison(baseline_images=['line_dashes'], remove_text=True,\n",
    "                  extensions=['png'])\n",
    "def test_line_dashes():\n",
    "    fig, ax = plt.subplots()\n",
    "    ax.plot(range(10), linestyle=(0, (3, 3)), lw=5)"
   ]
  },
  {
   "cell_type": "code",
   "execution_count": null,
   "id": "2cc26778-aa53-4303-8d1b-c0c66245d88e",
   "metadata": {},
   "outputs": [],
   "source": [
    "\n"
   ]
  },
  {
   "cell_type": "code",
   "execution_count": null,
   "id": "75d8a27a-9650-4b10-8b3a-f6cee3a0ba5a",
   "metadata": {},
   "outputs": [],
   "source": []
  }
 ],
 "metadata": {
  "kernelspec": {
   "display_name": "Python 3",
   "language": "python",
   "name": "python3"
  },
  "language_info": {
   "codemirror_mode": {
    "name": "ipython",
    "version": 3
   },
   "file_extension": ".py",
   "mimetype": "text/x-python",
   "name": "python",
   "nbconvert_exporter": "python",
   "pygments_lexer": "ipython3",
   "version": "3.8.8"
  }
 },
 "nbformat": 4,
 "nbformat_minor": 5
}
