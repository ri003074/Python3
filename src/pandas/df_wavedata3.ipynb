{
 "cells": [
  {
   "cell_type": "code",
   "execution_count": 22,
   "id": "27da67e8-2313-4651-9ff6-63655b7bb5e2",
   "metadata": {},
   "outputs": [],
   "source": [
    "import csv\n",
    "from collections import OrderedDict\n",
    "\n",
    "import pandas as pd"
   ]
  },
  {
   "cell_type": "code",
   "execution_count": null,
   "id": "0f1df796-79b5-4ddd-89ef-5e5eca014354",
   "metadata": {},
   "outputs": [],
   "source": []
  },
  {
   "cell_type": "code",
   "execution_count": 31,
   "id": "2c7ea91e-ee39-4dad-a98d-ea026c67d18d",
   "metadata": {},
   "outputs": [],
   "source": [
    "# with open(\"./data/wavedata3.csv\", encoding=\"utf-8-sig\") as csvfile:\n",
    "#     reader = csv.DictReader(csvfile)\n",
    "#     for row in reader:\n",
    "#         print(row)"
   ]
  },
  {
   "cell_type": "code",
   "execution_count": 44,
   "id": "b8a96bbf-297a-4d72-8ce0-e28617f2ab4e",
   "metadata": {},
   "outputs": [],
   "source": [
    "with open(\"./data/wavedata3.csv\", mode=\"r\", encoding=\"utf-8-sig\") as csvfile:\n",
    "    reader = csv.reader(csvfile)\n",
    "    data = []\n",
    "    index = []\n",
    "    for rows in reader:\n",
    "        dic = OrderedDict()\n",
    "        for i in range(0, len(rows), 2):\n",
    "            try:\n",
    "                dic[rows[i]] = float(rows[i + 1])\n",
    "            except ValueError:\n",
    "                dic[rows[i]] = rows[i + 1]\n",
    "        data.append(dic)"
   ]
  },
  {
   "cell_type": "code",
   "execution_count": null,
   "id": "3e503c01-bacd-49e1-a910-7ea1d478b007",
   "metadata": {},
   "outputs": [],
   "source": []
  },
  {
   "cell_type": "code",
   "execution_count": 45,
   "id": "00e52d52-b41f-4cc9-bf04-8660408ce4da",
   "metadata": {},
   "outputs": [
    {
     "name": "stdout",
     "output_type": "stream",
     "text": [
      "[OrderedDict([('condition', 'vih1'), ('rate', '250ps'), ('pin', 'p1'), ('tr', 41.0), ('tf', 44.0), ('duty', 51.0)]), OrderedDict([('condition', 'vih1'), ('rate', '286ps'), ('pin', 'p1'), ('tr', 42.0), ('tf', 44.0), ('duty', 52.0)]), OrderedDict([('condition', 'vih1'), ('rate', '333ps'), ('pin', 'p1'), ('tr', 43.0), ('tf', 45.0), ('duty', 51.0)]), OrderedDict([('condition', 'vih2'), ('rate', '250ps'), ('pin', 'p1'), ('tr', 44.0), ('tf', 45.0), ('duty', 43.0)]), OrderedDict([('condition', 'vih2'), ('rate', '286ps'), ('pin', 'p1'), ('tr', 44.0), ('tf', 55.0), ('duty', 43.0)]), OrderedDict([('condition', 'vih2'), ('rate', '333ps'), ('pin', '1p'), ('tr', 44.0), ('tf', 55.0), ('duty', 43.0)])]\n"
     ]
    }
   ],
   "source": [
    "print(data)"
   ]
  },
  {
   "cell_type": "code",
   "execution_count": 46,
   "id": "41ea5884-b74b-4daf-8aa0-6b5dfb4c3408",
   "metadata": {},
   "outputs": [],
   "source": [
    "df = pd.DataFrame(data)"
   ]
  },
  {
   "cell_type": "code",
   "execution_count": 47,
   "id": "72322d17-5f12-4367-8a6c-0443daf1aeed",
   "metadata": {},
   "outputs": [
    {
     "data": {
      "text/html": [
       "<div>\n",
       "<style scoped>\n",
       "    .dataframe tbody tr th:only-of-type {\n",
       "        vertical-align: middle;\n",
       "    }\n",
       "\n",
       "    .dataframe tbody tr th {\n",
       "        vertical-align: top;\n",
       "    }\n",
       "\n",
       "    .dataframe thead th {\n",
       "        text-align: right;\n",
       "    }\n",
       "</style>\n",
       "<table border=\"1\" class=\"dataframe\">\n",
       "  <thead>\n",
       "    <tr style=\"text-align: right;\">\n",
       "      <th></th>\n",
       "      <th>condition</th>\n",
       "      <th>rate</th>\n",
       "      <th>pin</th>\n",
       "      <th>tr</th>\n",
       "      <th>tf</th>\n",
       "      <th>duty</th>\n",
       "    </tr>\n",
       "  </thead>\n",
       "  <tbody>\n",
       "    <tr>\n",
       "      <th>0</th>\n",
       "      <td>vih1</td>\n",
       "      <td>250ps</td>\n",
       "      <td>p1</td>\n",
       "      <td>41.0</td>\n",
       "      <td>44.0</td>\n",
       "      <td>51.0</td>\n",
       "    </tr>\n",
       "    <tr>\n",
       "      <th>1</th>\n",
       "      <td>vih1</td>\n",
       "      <td>286ps</td>\n",
       "      <td>p1</td>\n",
       "      <td>42.0</td>\n",
       "      <td>44.0</td>\n",
       "      <td>52.0</td>\n",
       "    </tr>\n",
       "    <tr>\n",
       "      <th>2</th>\n",
       "      <td>vih1</td>\n",
       "      <td>333ps</td>\n",
       "      <td>p1</td>\n",
       "      <td>43.0</td>\n",
       "      <td>45.0</td>\n",
       "      <td>51.0</td>\n",
       "    </tr>\n",
       "    <tr>\n",
       "      <th>3</th>\n",
       "      <td>vih2</td>\n",
       "      <td>250ps</td>\n",
       "      <td>p1</td>\n",
       "      <td>44.0</td>\n",
       "      <td>45.0</td>\n",
       "      <td>43.0</td>\n",
       "    </tr>\n",
       "    <tr>\n",
       "      <th>4</th>\n",
       "      <td>vih2</td>\n",
       "      <td>286ps</td>\n",
       "      <td>p1</td>\n",
       "      <td>44.0</td>\n",
       "      <td>55.0</td>\n",
       "      <td>43.0</td>\n",
       "    </tr>\n",
       "    <tr>\n",
       "      <th>5</th>\n",
       "      <td>vih2</td>\n",
       "      <td>333ps</td>\n",
       "      <td>1p</td>\n",
       "      <td>44.0</td>\n",
       "      <td>55.0</td>\n",
       "      <td>43.0</td>\n",
       "    </tr>\n",
       "  </tbody>\n",
       "</table>\n",
       "</div>"
      ],
      "text/plain": [
       "  condition   rate pin    tr    tf  duty\n",
       "0      vih1  250ps  p1  41.0  44.0  51.0\n",
       "1      vih1  286ps  p1  42.0  44.0  52.0\n",
       "2      vih1  333ps  p1  43.0  45.0  51.0\n",
       "3      vih2  250ps  p1  44.0  45.0  43.0\n",
       "4      vih2  286ps  p1  44.0  55.0  43.0\n",
       "5      vih2  333ps  1p  44.0  55.0  43.0"
      ]
     },
     "execution_count": 47,
     "metadata": {},
     "output_type": "execute_result"
    }
   ],
   "source": [
    "df"
   ]
  },
  {
   "cell_type": "code",
   "execution_count": 48,
   "id": "f6f08db8-007e-4a76-a95a-be41e23dfaa6",
   "metadata": {},
   "outputs": [],
   "source": [
    "df = df.set_index(\"condition\")"
   ]
  },
  {
   "cell_type": "code",
   "execution_count": 60,
   "id": "f4d4adb3-e98c-4937-a4b5-ae58fa53d9d8",
   "metadata": {},
   "outputs": [],
   "source": [
    "df[\"pin-rate\"] = df[\"pin\"] + \"-\" + df[\"rate\"]"
   ]
  },
  {
   "cell_type": "code",
   "execution_count": 62,
   "id": "94a285ac-6aa2-424f-818e-da0bb6cd29ac",
   "metadata": {},
   "outputs": [
    {
     "data": {
      "text/html": [
       "<div>\n",
       "<style scoped>\n",
       "    .dataframe tbody tr th:only-of-type {\n",
       "        vertical-align: middle;\n",
       "    }\n",
       "\n",
       "    .dataframe tbody tr th {\n",
       "        vertical-align: top;\n",
       "    }\n",
       "\n",
       "    .dataframe thead th {\n",
       "        text-align: right;\n",
       "    }\n",
       "</style>\n",
       "<table border=\"1\" class=\"dataframe\">\n",
       "  <thead>\n",
       "    <tr style=\"text-align: right;\">\n",
       "      <th></th>\n",
       "      <th>rate</th>\n",
       "      <th>pin</th>\n",
       "      <th>tr</th>\n",
       "      <th>tf</th>\n",
       "      <th>duty</th>\n",
       "      <th>pin-rate</th>\n",
       "    </tr>\n",
       "    <tr>\n",
       "      <th>condition</th>\n",
       "      <th></th>\n",
       "      <th></th>\n",
       "      <th></th>\n",
       "      <th></th>\n",
       "      <th></th>\n",
       "      <th></th>\n",
       "    </tr>\n",
       "  </thead>\n",
       "  <tbody>\n",
       "    <tr>\n",
       "      <th>vih1</th>\n",
       "      <td>250ps</td>\n",
       "      <td>p1</td>\n",
       "      <td>41.0</td>\n",
       "      <td>44.0</td>\n",
       "      <td>51.0</td>\n",
       "      <td>p1-250ps</td>\n",
       "    </tr>\n",
       "    <tr>\n",
       "      <th>vih1</th>\n",
       "      <td>286ps</td>\n",
       "      <td>p1</td>\n",
       "      <td>42.0</td>\n",
       "      <td>44.0</td>\n",
       "      <td>52.0</td>\n",
       "      <td>p1-286ps</td>\n",
       "    </tr>\n",
       "    <tr>\n",
       "      <th>vih1</th>\n",
       "      <td>333ps</td>\n",
       "      <td>p1</td>\n",
       "      <td>43.0</td>\n",
       "      <td>45.0</td>\n",
       "      <td>51.0</td>\n",
       "      <td>p1-333ps</td>\n",
       "    </tr>\n",
       "    <tr>\n",
       "      <th>vih2</th>\n",
       "      <td>250ps</td>\n",
       "      <td>p1</td>\n",
       "      <td>44.0</td>\n",
       "      <td>45.0</td>\n",
       "      <td>43.0</td>\n",
       "      <td>p1-250ps</td>\n",
       "    </tr>\n",
       "    <tr>\n",
       "      <th>vih2</th>\n",
       "      <td>286ps</td>\n",
       "      <td>p1</td>\n",
       "      <td>44.0</td>\n",
       "      <td>55.0</td>\n",
       "      <td>43.0</td>\n",
       "      <td>p1-286ps</td>\n",
       "    </tr>\n",
       "    <tr>\n",
       "      <th>vih2</th>\n",
       "      <td>333ps</td>\n",
       "      <td>1p</td>\n",
       "      <td>44.0</td>\n",
       "      <td>55.0</td>\n",
       "      <td>43.0</td>\n",
       "      <td>1p-333ps</td>\n",
       "    </tr>\n",
       "  </tbody>\n",
       "</table>\n",
       "</div>"
      ],
      "text/plain": [
       "            rate pin    tr    tf  duty  pin-rate\n",
       "condition                                       \n",
       "vih1       250ps  p1  41.0  44.0  51.0  p1-250ps\n",
       "vih1       286ps  p1  42.0  44.0  52.0  p1-286ps\n",
       "vih1       333ps  p1  43.0  45.0  51.0  p1-333ps\n",
       "vih2       250ps  p1  44.0  45.0  43.0  p1-250ps\n",
       "vih2       286ps  p1  44.0  55.0  43.0  p1-286ps\n",
       "vih2       333ps  1p  44.0  55.0  43.0  1p-333ps"
      ]
     },
     "execution_count": 62,
     "metadata": {},
     "output_type": "execute_result"
    }
   ],
   "source": [
    "df"
   ]
  },
  {
   "cell_type": "code",
   "execution_count": 64,
   "id": "e81dd291-cd0f-41a9-a794-4223c07d776f",
   "metadata": {},
   "outputs": [
    {
     "data": {
      "image/png": "[encoded data removed]",
      "text/plain": [
       "<Figure size 432x288 with 1 Axes>"
      ]
     },
     "metadata": {
      "needs_background": "light"
     },
     "output_type": "display_data"
    },
    {
     "data": {
      "image/png": "[encoded data removed]",
      "text/plain": [
       "<Figure size 432x288 with 1 Axes>"
      ]
     },
     "metadata": {
      "needs_background": "light"
     },
     "output_type": "display_data"
    }
   ],
   "source": [
    "for name, group in df.groupby([\"condition\"]):\n",
    "    group = group.set_index(\"pin-rate\")\n",
    "\n",
    "    group.plot()"
   ]
  },
  {
   "cell_type": "code",
   "execution_count": 57,
   "id": "dc122ef5-b9f7-4916-99e2-010fab8c7829",
   "metadata": {},
   "outputs": [
    {
     "data": {
      "text/plain": [
       "<AxesSubplot:xlabel='condition'>"
      ]
     },
     "execution_count": 57,
     "metadata": {},
     "output_type": "execute_result"
    },
    {
     "data": {
      "image/png": "[encoded data removed]",
      "text/plain": [
       "<Figure size 432x288 with 1 Axes>"
      ]
     },
     "metadata": {
      "needs_background": "light"
     },
     "output_type": "display_data"
    }
   ],
   "source": [
    "df.plot()]\n"
   ]
  },
  {
   "cell_type": "code",
   "execution_count": null,
   "id": "f55b715f-f9d1-4b05-bdba-2852a0c9d2e1",
   "metadata": {},
   "outputs": [],
   "source": []
  }
 ],
 "metadata": {
  "kernelspec": {
   "display_name": "Python 3",
   "language": "python",
   "name": "python3"
  },
  "language_info": {
   "codemirror_mode": {
    "name": "ipython",
    "version": 3
   },
   "file_extension": ".py",
   "mimetype": "text/x-python",
   "name": "python",
   "nbconvert_exporter": "python",
   "pygments_lexer": "ipython3",
   "version": "3.8.8"
  }
 },
 "nbformat": 4,
 "nbformat_minor": 5
}
