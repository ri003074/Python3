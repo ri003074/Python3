{
 "cells": [
  {
   "cell_type": "code",
   "execution_count": 63,
   "id": "86d3aa76-698d-4aa5-afac-5ff55c0e790d",
   "metadata": {},
   "outputs": [
    {
     "data": {
      "image/png": "[encoded data removed]",
      "text/plain": [
       "<Figure size 720x216 with 1 Axes>"
      ]
     },
     "metadata": {
      "needs_background": "light"
     },
     "output_type": "display_data"
    }
   ],
   "source": [
    "import matplotlib.pyplot as plt\n",
    "\n",
    "import pandas as pd\n",
    "\n",
    "if __name__ == \"__main__\":\n",
    "    data = {\n",
    "        \"Tokyo\": [27, 23, 27, 24, 25, 23, 26],\n",
    "        \"Osaka\": [26, 23, 27, 28, 24, 22, 27],\n",
    "        \"Nagoya\": [26, 23, 27, 28, 24, 22, 27],\n",
    "        \"Gifu\": [26, 23, 27, 28, 24, 22, 27],\n",
    "        \"Kumamoto\": [26, 23, 27, 28, 24, 22, 27],\n",
    "    }\n",
    "\n",
    "    df = pd.DataFrame(data)\n",
    "\n",
    "    fig, ax = plt.subplots(figsize=(10, 3))\n",
    "\n",
    "    ax.axis(\"off\")\n",
    "    ax.axis(\"tight\")\n",
    "\n",
    "    #     print(df.values[0][0])\n",
    "\n",
    "    colors = [[\"white\"] * len(df.values.T) for i in range(len(df.values))]\n",
    "    #     print(colors)\n",
    "    for i in range(len(df.values)):\n",
    "        for j in range(len(df.values.T)):\n",
    "            if df.values[i][j] > 27:\n",
    "                colors[i][j] = \"red\"\n",
    "\n",
    "    #     tb = ax.table(cellText=df.values, colLabels=df.columns)\n",
    "    tb = ax.table(\n",
    "        cellText=df.values, colLabels=df.columns, bbox=[0, 0, 1, 1], cellColours=colors\n",
    "    )\n",
    "\n",
    "    for i in range(len(data)):\n",
    "        tb[0, i].set_facecolor(\"#363636\")\n",
    "        tb[0, i].set_text_props(color=\"w\")\n",
    "\n",
    "    plt.savefig(\"table.png\")\n",
    "    plt.show()"
   ]
  },
  {
   "cell_type": "code",
   "execution_count": null,
   "id": "64d1e837-5480-453d-8d0d-f6b2eedda3e5",
   "metadata": {},
   "outputs": [],
   "source": []
  },
  {
   "cell_type": "code",
   "execution_count": null,
   "id": "7249e167-d0fb-4eb5-bc4f-d98f1cb8bec2",
   "metadata": {},
   "outputs": [],
   "source": []
  }
 ],
 "metadata": {
  "kernelspec": {
   "display_name": "Python 3",
   "language": "python",
   "name": "python3"
  },
  "language_info": {
   "codemirror_mode": {
    "name": "ipython",
    "version": 3
   },
   "file_extension": ".py",
   "mimetype": "text/x-python",
   "name": "python",
   "nbconvert_exporter": "python",
   "pygments_lexer": "ipython3",
   "version": "3.9.1"
  }
 },
 "nbformat": 4,
 "nbformat_minor": 5
}
