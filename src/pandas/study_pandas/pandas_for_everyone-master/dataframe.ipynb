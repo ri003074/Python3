{
 "cells": [
  {
   "cell_type": "code",
   "execution_count": 34,
   "id": "64055d99-202e-4892-afa2-6a55cbc7d3a5",
   "metadata": {},
   "outputs": [],
   "source": [
    "import pandas as pd"
   ]
  },
  {
   "cell_type": "code",
   "execution_count": 35,
   "id": "5d71eb67-fda9-4b40-8bf5-e2855d5b4ae3",
   "metadata": {},
   "outputs": [],
   "source": [
    "df = pd.read_csv(\"./data/gapminder.tsv\", sep=\"\\t\")"
   ]
  },
  {
   "cell_type": "code",
   "execution_count": 36,
   "id": "7901bd08-967c-412f-a268-f227283018e8",
   "metadata": {},
   "outputs": [
    {
     "data": {
      "text/html": [
       "<div>\n",
       "<style scoped>\n",
       "    .dataframe tbody tr th:only-of-type {\n",
       "        vertical-align: middle;\n",
       "    }\n",
       "\n",
       "    .dataframe tbody tr th {\n",
       "        vertical-align: top;\n",
       "    }\n",
       "\n",
       "    .dataframe thead th {\n",
       "        text-align: right;\n",
       "    }\n",
       "</style>\n",
       "<table border=\"1\" class=\"dataframe\">\n",
       "  <thead>\n",
       "    <tr style=\"text-align: right;\">\n",
       "      <th></th>\n",
       "      <th>country</th>\n",
       "      <th>continent</th>\n",
       "      <th>year</th>\n",
       "      <th>lifeExp</th>\n",
       "      <th>pop</th>\n",
       "      <th>gdpPercap</th>\n",
       "    </tr>\n",
       "  </thead>\n",
       "  <tbody>\n",
       "    <tr>\n",
       "      <th>0</th>\n",
       "      <td>Afghanistan</td>\n",
       "      <td>Asia</td>\n",
       "      <td>1952</td>\n",
       "      <td>28.801</td>\n",
       "      <td>8425333</td>\n",
       "      <td>779.445314</td>\n",
       "    </tr>\n",
       "    <tr>\n",
       "      <th>1</th>\n",
       "      <td>Afghanistan</td>\n",
       "      <td>Asia</td>\n",
       "      <td>1957</td>\n",
       "      <td>30.332</td>\n",
       "      <td>9240934</td>\n",
       "      <td>820.853030</td>\n",
       "    </tr>\n",
       "    <tr>\n",
       "      <th>2</th>\n",
       "      <td>Afghanistan</td>\n",
       "      <td>Asia</td>\n",
       "      <td>1962</td>\n",
       "      <td>31.997</td>\n",
       "      <td>10267083</td>\n",
       "      <td>853.100710</td>\n",
       "    </tr>\n",
       "    <tr>\n",
       "      <th>3</th>\n",
       "      <td>Afghanistan</td>\n",
       "      <td>Asia</td>\n",
       "      <td>1967</td>\n",
       "      <td>34.020</td>\n",
       "      <td>11537966</td>\n",
       "      <td>836.197138</td>\n",
       "    </tr>\n",
       "    <tr>\n",
       "      <th>4</th>\n",
       "      <td>Afghanistan</td>\n",
       "      <td>Asia</td>\n",
       "      <td>1972</td>\n",
       "      <td>36.088</td>\n",
       "      <td>13079460</td>\n",
       "      <td>739.981106</td>\n",
       "    </tr>\n",
       "    <tr>\n",
       "      <th>...</th>\n",
       "      <td>...</td>\n",
       "      <td>...</td>\n",
       "      <td>...</td>\n",
       "      <td>...</td>\n",
       "      <td>...</td>\n",
       "      <td>...</td>\n",
       "    </tr>\n",
       "    <tr>\n",
       "      <th>1699</th>\n",
       "      <td>Zimbabwe</td>\n",
       "      <td>Africa</td>\n",
       "      <td>1987</td>\n",
       "      <td>62.351</td>\n",
       "      <td>9216418</td>\n",
       "      <td>706.157306</td>\n",
       "    </tr>\n",
       "    <tr>\n",
       "      <th>1700</th>\n",
       "      <td>Zimbabwe</td>\n",
       "      <td>Africa</td>\n",
       "      <td>1992</td>\n",
       "      <td>60.377</td>\n",
       "      <td>10704340</td>\n",
       "      <td>693.420786</td>\n",
       "    </tr>\n",
       "    <tr>\n",
       "      <th>1701</th>\n",
       "      <td>Zimbabwe</td>\n",
       "      <td>Africa</td>\n",
       "      <td>1997</td>\n",
       "      <td>46.809</td>\n",
       "      <td>11404948</td>\n",
       "      <td>792.449960</td>\n",
       "    </tr>\n",
       "    <tr>\n",
       "      <th>1702</th>\n",
       "      <td>Zimbabwe</td>\n",
       "      <td>Africa</td>\n",
       "      <td>2002</td>\n",
       "      <td>39.989</td>\n",
       "      <td>11926563</td>\n",
       "      <td>672.038623</td>\n",
       "    </tr>\n",
       "    <tr>\n",
       "      <th>1703</th>\n",
       "      <td>Zimbabwe</td>\n",
       "      <td>Africa</td>\n",
       "      <td>2007</td>\n",
       "      <td>43.487</td>\n",
       "      <td>12311143</td>\n",
       "      <td>469.709298</td>\n",
       "    </tr>\n",
       "  </tbody>\n",
       "</table>\n",
       "<p>1704 rows × 6 columns</p>\n",
       "</div>"
      ],
      "text/plain": [
       "          country continent  year  lifeExp       pop   gdpPercap\n",
       "0     Afghanistan      Asia  1952   28.801   8425333  779.445314\n",
       "1     Afghanistan      Asia  1957   30.332   9240934  820.853030\n",
       "2     Afghanistan      Asia  1962   31.997  10267083  853.100710\n",
       "3     Afghanistan      Asia  1967   34.020  11537966  836.197138\n",
       "4     Afghanistan      Asia  1972   36.088  13079460  739.981106\n",
       "...           ...       ...   ...      ...       ...         ...\n",
       "1699     Zimbabwe    Africa  1987   62.351   9216418  706.157306\n",
       "1700     Zimbabwe    Africa  1992   60.377  10704340  693.420786\n",
       "1701     Zimbabwe    Africa  1997   46.809  11404948  792.449960\n",
       "1702     Zimbabwe    Africa  2002   39.989  11926563  672.038623\n",
       "1703     Zimbabwe    Africa  2007   43.487  12311143  469.709298\n",
       "\n",
       "[1704 rows x 6 columns]"
      ]
     },
     "execution_count": 36,
     "metadata": {},
     "output_type": "execute_result"
    }
   ],
   "source": [
    "df"
   ]
  },
  {
   "cell_type": "code",
   "execution_count": 37,
   "id": "f26b2d27-759a-4e8e-880b-1cc2c5110931",
   "metadata": {},
   "outputs": [
    {
     "data": {
      "text/plain": [
       "(1704, 6)"
      ]
     },
     "execution_count": 37,
     "metadata": {},
     "output_type": "execute_result"
    }
   ],
   "source": [
    "df.shape  # 行と列の個数を種痘"
   ]
  },
  {
   "cell_type": "code",
   "execution_count": 38,
   "id": "465fa544-6fc0-4ebb-91c1-387f121b1184",
   "metadata": {},
   "outputs": [
    {
     "data": {
      "text/plain": [
       "Index(['country', 'continent', 'year', 'lifeExp', 'pop', 'gdpPercap'], dtype='object')"
      ]
     },
     "execution_count": 38,
     "metadata": {},
     "output_type": "execute_result"
    }
   ],
   "source": [
    "df.columns  # get columns"
   ]
  },
  {
   "cell_type": "code",
   "execution_count": 39,
   "id": "ee9145f3-7f0c-470e-ace8-dd31df4e1fb0",
   "metadata": {},
   "outputs": [],
   "source": [
    "country_df = df[\"country\"]"
   ]
  },
  {
   "cell_type": "code",
   "execution_count": 40,
   "id": "00a57cf3-72f0-4a0f-9e00-0175348137a5",
   "metadata": {},
   "outputs": [
    {
     "data": {
      "text/plain": [
       "0       Afghanistan\n",
       "1       Afghanistan\n",
       "2       Afghanistan\n",
       "3       Afghanistan\n",
       "4       Afghanistan\n",
       "           ...     \n",
       "1699       Zimbabwe\n",
       "1700       Zimbabwe\n",
       "1701       Zimbabwe\n",
       "1702       Zimbabwe\n",
       "1703       Zimbabwe\n",
       "Name: country, Length: 1704, dtype: object"
      ]
     },
     "execution_count": 40,
     "metadata": {},
     "output_type": "execute_result"
    }
   ],
   "source": [
    "country_df"
   ]
  },
  {
   "cell_type": "code",
   "execution_count": 49,
   "id": "c2ee64c7-ca68-47ab-83be-6a08b60ef327",
   "metadata": {},
   "outputs": [
    {
     "name": "stdout",
     "output_type": "stream",
     "text": [
      "country      Afghanistan\n",
      "continent           Asia\n",
      "year                1952\n",
      "lifeExp           28.801\n",
      "pop              8425333\n",
      "gdpPercap     779.445314\n",
      "Name: 0, dtype: object\n"
     ]
    }
   ],
   "source": [
    "print(df.loc[0])  # 0行目"
   ]
  },
  {
   "cell_type": "code",
   "execution_count": 50,
   "id": "e55a6c8a-3922-40a7-b2b1-44013801aa8e",
   "metadata": {},
   "outputs": [
    {
     "name": "stdout",
     "output_type": "stream",
     "text": [
      "       country continent  year  lifeExp       pop   gdpPercap\n",
      "0  Afghanistan      Asia  1952   28.801   8425333  779.445314\n",
      "2  Afghanistan      Asia  1962   31.997  10267083  853.100710\n"
     ]
    }
   ],
   "source": [
    "print(df.loc[[0, 2]])  # 複数行"
   ]
  },
  {
   "cell_type": "code",
   "execution_count": 51,
   "id": "76a0b6a1-1178-4276-b94d-2e6464178035",
   "metadata": {},
   "outputs": [
    {
     "data": {
      "text/html": [
       "<div>\n",
       "<style scoped>\n",
       "    .dataframe tbody tr th:only-of-type {\n",
       "        vertical-align: middle;\n",
       "    }\n",
       "\n",
       "    .dataframe tbody tr th {\n",
       "        vertical-align: top;\n",
       "    }\n",
       "\n",
       "    .dataframe thead th {\n",
       "        text-align: right;\n",
       "    }\n",
       "</style>\n",
       "<table border=\"1\" class=\"dataframe\">\n",
       "  <thead>\n",
       "    <tr style=\"text-align: right;\">\n",
       "      <th></th>\n",
       "      <th>country</th>\n",
       "      <th>continent</th>\n",
       "      <th>year</th>\n",
       "      <th>lifeExp</th>\n",
       "      <th>pop</th>\n",
       "      <th>gdpPercap</th>\n",
       "    </tr>\n",
       "  </thead>\n",
       "  <tbody>\n",
       "    <tr>\n",
       "      <th>0</th>\n",
       "      <td>Afghanistan</td>\n",
       "      <td>Asia</td>\n",
       "      <td>1952</td>\n",
       "      <td>28.801</td>\n",
       "      <td>8425333</td>\n",
       "      <td>779.445314</td>\n",
       "    </tr>\n",
       "    <tr>\n",
       "      <th>1</th>\n",
       "      <td>Afghanistan</td>\n",
       "      <td>Asia</td>\n",
       "      <td>1957</td>\n",
       "      <td>30.332</td>\n",
       "      <td>9240934</td>\n",
       "      <td>820.853030</td>\n",
       "    </tr>\n",
       "    <tr>\n",
       "      <th>2</th>\n",
       "      <td>Afghanistan</td>\n",
       "      <td>Asia</td>\n",
       "      <td>1962</td>\n",
       "      <td>31.997</td>\n",
       "      <td>10267083</td>\n",
       "      <td>853.100710</td>\n",
       "    </tr>\n",
       "    <tr>\n",
       "      <th>3</th>\n",
       "      <td>Afghanistan</td>\n",
       "      <td>Asia</td>\n",
       "      <td>1967</td>\n",
       "      <td>34.020</td>\n",
       "      <td>11537966</td>\n",
       "      <td>836.197138</td>\n",
       "    </tr>\n",
       "    <tr>\n",
       "      <th>4</th>\n",
       "      <td>Afghanistan</td>\n",
       "      <td>Asia</td>\n",
       "      <td>1972</td>\n",
       "      <td>36.088</td>\n",
       "      <td>13079460</td>\n",
       "      <td>739.981106</td>\n",
       "    </tr>\n",
       "    <tr>\n",
       "      <th>...</th>\n",
       "      <td>...</td>\n",
       "      <td>...</td>\n",
       "      <td>...</td>\n",
       "      <td>...</td>\n",
       "      <td>...</td>\n",
       "      <td>...</td>\n",
       "    </tr>\n",
       "    <tr>\n",
       "      <th>1699</th>\n",
       "      <td>Zimbabwe</td>\n",
       "      <td>Africa</td>\n",
       "      <td>1987</td>\n",
       "      <td>62.351</td>\n",
       "      <td>9216418</td>\n",
       "      <td>706.157306</td>\n",
       "    </tr>\n",
       "    <tr>\n",
       "      <th>1700</th>\n",
       "      <td>Zimbabwe</td>\n",
       "      <td>Africa</td>\n",
       "      <td>1992</td>\n",
       "      <td>60.377</td>\n",
       "      <td>10704340</td>\n",
       "      <td>693.420786</td>\n",
       "    </tr>\n",
       "    <tr>\n",
       "      <th>1701</th>\n",
       "      <td>Zimbabwe</td>\n",
       "      <td>Africa</td>\n",
       "      <td>1997</td>\n",
       "      <td>46.809</td>\n",
       "      <td>11404948</td>\n",
       "      <td>792.449960</td>\n",
       "    </tr>\n",
       "    <tr>\n",
       "      <th>1702</th>\n",
       "      <td>Zimbabwe</td>\n",
       "      <td>Africa</td>\n",
       "      <td>2002</td>\n",
       "      <td>39.989</td>\n",
       "      <td>11926563</td>\n",
       "      <td>672.038623</td>\n",
       "    </tr>\n",
       "    <tr>\n",
       "      <th>1703</th>\n",
       "      <td>Zimbabwe</td>\n",
       "      <td>Africa</td>\n",
       "      <td>2007</td>\n",
       "      <td>43.487</td>\n",
       "      <td>12311143</td>\n",
       "      <td>469.709298</td>\n",
       "    </tr>\n",
       "  </tbody>\n",
       "</table>\n",
       "<p>1704 rows × 6 columns</p>\n",
       "</div>"
      ],
      "text/plain": [
       "          country continent  year  lifeExp       pop   gdpPercap\n",
       "0     Afghanistan      Asia  1952   28.801   8425333  779.445314\n",
       "1     Afghanistan      Asia  1957   30.332   9240934  820.853030\n",
       "2     Afghanistan      Asia  1962   31.997  10267083  853.100710\n",
       "3     Afghanistan      Asia  1967   34.020  11537966  836.197138\n",
       "4     Afghanistan      Asia  1972   36.088  13079460  739.981106\n",
       "...           ...       ...   ...      ...       ...         ...\n",
       "1699     Zimbabwe    Africa  1987   62.351   9216418  706.157306\n",
       "1700     Zimbabwe    Africa  1992   60.377  10704340  693.420786\n",
       "1701     Zimbabwe    Africa  1997   46.809  11404948  792.449960\n",
       "1702     Zimbabwe    Africa  2002   39.989  11926563  672.038623\n",
       "1703     Zimbabwe    Africa  2007   43.487  12311143  469.709298\n",
       "\n",
       "[1704 rows x 6 columns]"
      ]
     },
     "execution_count": 51,
     "metadata": {},
     "output_type": "execute_result"
    }
   ],
   "source": [
    "df"
   ]
  },
  {
   "cell_type": "markdown",
   "id": "29ba6178-0e57-4019-800b-7cf36dcb7e82",
   "metadata": {},
   "source": [
    "# 行と列を組み合わせて絞り込み\n",
    "df.loc[[rows], [columns]]"
   ]
  },
  {
   "cell_type": "code",
   "execution_count": 52,
   "id": "bfb76965-3cb9-46ed-9754-9c795fb72839",
   "metadata": {},
   "outputs": [
    {
     "data": {
      "text/html": [
       "<div>\n",
       "<style scoped>\n",
       "    .dataframe tbody tr th:only-of-type {\n",
       "        vertical-align: middle;\n",
       "    }\n",
       "\n",
       "    .dataframe tbody tr th {\n",
       "        vertical-align: top;\n",
       "    }\n",
       "\n",
       "    .dataframe thead th {\n",
       "        text-align: right;\n",
       "    }\n",
       "</style>\n",
       "<table border=\"1\" class=\"dataframe\">\n",
       "  <thead>\n",
       "    <tr style=\"text-align: right;\">\n",
       "      <th></th>\n",
       "      <th>year</th>\n",
       "      <th>pop</th>\n",
       "    </tr>\n",
       "  </thead>\n",
       "  <tbody>\n",
       "    <tr>\n",
       "      <th>0</th>\n",
       "      <td>1952</td>\n",
       "      <td>8425333</td>\n",
       "    </tr>\n",
       "    <tr>\n",
       "      <th>2</th>\n",
       "      <td>1962</td>\n",
       "      <td>10267083</td>\n",
       "    </tr>\n",
       "  </tbody>\n",
       "</table>\n",
       "</div>"
      ],
      "text/plain": [
       "   year       pop\n",
       "0  1952   8425333\n",
       "2  1962  10267083"
      ]
     },
     "execution_count": 52,
     "metadata": {},
     "output_type": "execute_result"
    }
   ],
   "source": [
    "df.loc[[0, 2], [\"year\", \"pop\"]]"
   ]
  },
  {
   "cell_type": "code",
   "execution_count": 53,
   "id": "f995f302-a2d1-4344-aef4-95fdd911a034",
   "metadata": {},
   "outputs": [
    {
     "name": "stdout",
     "output_type": "stream",
     "text": [
      "[0, 1, 2]\n"
     ]
    }
   ],
   "source": [
    "small_range = list(range(3))\n",
    "print(small_range)"
   ]
  },
  {
   "cell_type": "code",
   "execution_count": 54,
   "id": "23095d9a-4fdf-4300-b01d-518f51d89f93",
   "metadata": {},
   "outputs": [
    {
     "name": "stdout",
     "output_type": "stream",
     "text": [
      "       country continent  year\n",
      "0  Afghanistan      Asia  1952\n",
      "1  Afghanistan      Asia  1957\n",
      "2  Afghanistan      Asia  1962\n",
      "3  Afghanistan      Asia  1967\n",
      "4  Afghanistan      Asia  1972\n"
     ]
    }
   ],
   "source": [
    "subset = df.iloc[:, small_range]\n",
    "print(subset.head())"
   ]
  },
  {
   "cell_type": "code",
   "execution_count": 55,
   "id": "6372cf5f-0374-4e8e-8b65-6c5504eeb6f3",
   "metadata": {},
   "outputs": [
    {
     "name": "stdout",
     "output_type": "stream",
     "text": [
      "       country  year       pop\n",
      "0  Afghanistan  1952   8425333\n",
      "1  Afghanistan  1957   9240934\n",
      "2  Afghanistan  1962  10267083\n",
      "3  Afghanistan  1967  11537966\n",
      "4  Afghanistan  1972  13079460\n"
     ]
    }
   ],
   "source": [
    "subset = df.iloc[:, 0:6:2]\n",
    "print(subset.head())"
   ]
  },
  {
   "cell_type": "code",
   "execution_count": 56,
   "id": "67d775c8-5f3e-48e5-8207-0684f1c033d8",
   "metadata": {},
   "outputs": [],
   "source": [
    "arr = [0, 1, 2, 3, 4, 5]"
   ]
  },
  {
   "cell_type": "code",
   "execution_count": 67,
   "id": "7cb10c5d-c7af-41ee-bc68-f19f68be2992",
   "metadata": {},
   "outputs": [
    {
     "data": {
      "text/plain": [
       "[0, 2, 4]"
      ]
     },
     "execution_count": 67,
     "metadata": {},
     "output_type": "execute_result"
    }
   ],
   "source": [
    "arr[0:5:2]"
   ]
  },
  {
   "cell_type": "code",
   "execution_count": 80,
   "id": "7726aa11-2a94-44d7-8138-ca9a2539c9dc",
   "metadata": {},
   "outputs": [],
   "source": [
    "subset = df.iloc[0:6:2, [0, 3, 5]]"
   ]
  },
  {
   "cell_type": "code",
   "execution_count": 83,
   "id": "9982f05a-90d0-4d56-a836-584a9b2b825a",
   "metadata": {},
   "outputs": [
    {
     "data": {
      "text/html": [
       "<div>\n",
       "<style scoped>\n",
       "    .dataframe tbody tr th:only-of-type {\n",
       "        vertical-align: middle;\n",
       "    }\n",
       "\n",
       "    .dataframe tbody tr th {\n",
       "        vertical-align: top;\n",
       "    }\n",
       "\n",
       "    .dataframe thead th {\n",
       "        text-align: right;\n",
       "    }\n",
       "</style>\n",
       "<table border=\"1\" class=\"dataframe\">\n",
       "  <thead>\n",
       "    <tr style=\"text-align: right;\">\n",
       "      <th></th>\n",
       "      <th>country</th>\n",
       "      <th>lifeExp</th>\n",
       "      <th>gdpPercap</th>\n",
       "    </tr>\n",
       "  </thead>\n",
       "  <tbody>\n",
       "    <tr>\n",
       "      <th>0</th>\n",
       "      <td>Afghanistan</td>\n",
       "      <td>28.801</td>\n",
       "      <td>779.445314</td>\n",
       "    </tr>\n",
       "    <tr>\n",
       "      <th>2</th>\n",
       "      <td>Afghanistan</td>\n",
       "      <td>31.997</td>\n",
       "      <td>853.100710</td>\n",
       "    </tr>\n",
       "    <tr>\n",
       "      <th>4</th>\n",
       "      <td>Afghanistan</td>\n",
       "      <td>36.088</td>\n",
       "      <td>739.981106</td>\n",
       "    </tr>\n",
       "  </tbody>\n",
       "</table>\n",
       "</div>"
      ],
      "text/plain": [
       "       country  lifeExp   gdpPercap\n",
       "0  Afghanistan   28.801  779.445314\n",
       "2  Afghanistan   31.997  853.100710\n",
       "4  Afghanistan   36.088  739.981106"
      ]
     },
     "execution_count": 83,
     "metadata": {},
     "output_type": "execute_result"
    }
   ],
   "source": [
    "subset"
   ]
  },
  {
   "cell_type": "code",
   "execution_count": 85,
   "id": "eb48a99c-cff7-461f-a65b-f118d2e76a4b",
   "metadata": {},
   "outputs": [],
   "source": [
    "subset = df.iloc[0:6:2, 1:7:2]"
   ]
  },
  {
   "cell_type": "code",
   "execution_count": 86,
   "id": "567b2d85-0119-4be1-8ff3-d92c09d3a958",
   "metadata": {},
   "outputs": [
    {
     "data": {
      "text/html": [
       "<div>\n",
       "<style scoped>\n",
       "    .dataframe tbody tr th:only-of-type {\n",
       "        vertical-align: middle;\n",
       "    }\n",
       "\n",
       "    .dataframe tbody tr th {\n",
       "        vertical-align: top;\n",
       "    }\n",
       "\n",
       "    .dataframe thead th {\n",
       "        text-align: right;\n",
       "    }\n",
       "</style>\n",
       "<table border=\"1\" class=\"dataframe\">\n",
       "  <thead>\n",
       "    <tr style=\"text-align: right;\">\n",
       "      <th></th>\n",
       "      <th>continent</th>\n",
       "      <th>lifeExp</th>\n",
       "      <th>gdpPercap</th>\n",
       "    </tr>\n",
       "  </thead>\n",
       "  <tbody>\n",
       "    <tr>\n",
       "      <th>0</th>\n",
       "      <td>Asia</td>\n",
       "      <td>28.801</td>\n",
       "      <td>779.445314</td>\n",
       "    </tr>\n",
       "    <tr>\n",
       "      <th>2</th>\n",
       "      <td>Asia</td>\n",
       "      <td>31.997</td>\n",
       "      <td>853.100710</td>\n",
       "    </tr>\n",
       "    <tr>\n",
       "      <th>4</th>\n",
       "      <td>Asia</td>\n",
       "      <td>36.088</td>\n",
       "      <td>739.981106</td>\n",
       "    </tr>\n",
       "  </tbody>\n",
       "</table>\n",
       "</div>"
      ],
      "text/plain": [
       "  continent  lifeExp   gdpPercap\n",
       "0      Asia   28.801  779.445314\n",
       "2      Asia   31.997  853.100710\n",
       "4      Asia   36.088  739.981106"
      ]
     },
     "execution_count": 86,
     "metadata": {},
     "output_type": "execute_result"
    }
   ],
   "source": [
    "subset"
   ]
  },
  {
   "cell_type": "code",
   "execution_count": 87,
   "id": "52b834ec-da3d-4648-9af7-8139e71c4419",
   "metadata": {},
   "outputs": [
    {
     "data": {
      "text/plain": [
       "<pandas.core.groupby.generic.DataFrameGroupBy object at 0x000001F9BC2A7BE0>"
      ]
     },
     "execution_count": 87,
     "metadata": {},
     "output_type": "execute_result"
    }
   ],
   "source": [
    "df.groupby(\"year\")"
   ]
  },
  {
   "cell_type": "code",
   "execution_count": 89,
   "id": "6f695b4b-b5de-4141-bc3c-81d25a67cb59",
   "metadata": {},
   "outputs": [
    {
     "name": "stdout",
     "output_type": "stream",
     "text": [
      "year\n",
      "1952    49.057620\n",
      "1957    51.507401\n",
      "1962    53.609249\n",
      "1967    55.678290\n",
      "1972    57.647386\n",
      "1977    59.570157\n",
      "1982    61.533197\n",
      "1987    63.212613\n",
      "1992    64.160338\n",
      "1997    65.014676\n",
      "2002    65.694923\n",
      "2007    67.007423\n",
      "Name: lifeExp, dtype: float64\n"
     ]
    }
   ],
   "source": [
    "print(df.groupby(\"year\")[\"lifeExp\"].mean())"
   ]
  },
  {
   "cell_type": "code",
   "execution_count": 90,
   "id": "9812f717-8f42-456c-a5bf-e4ad962c6f8f",
   "metadata": {},
   "outputs": [
    {
     "name": "stdout",
     "output_type": "stream",
     "text": [
      "(1952,                  country continent  year  lifeExp       pop    gdpPercap\n",
      "0            Afghanistan      Asia  1952   28.801   8425333   779.445314\n",
      "12               Albania    Europe  1952   55.230   1282697  1601.056136\n",
      "24               Algeria    Africa  1952   43.077   9279525  2449.008185\n",
      "36                Angola    Africa  1952   30.015   4232095  3520.610273\n",
      "48             Argentina  Americas  1952   62.485  17876956  5911.315053\n",
      "...                  ...       ...   ...      ...       ...          ...\n",
      "1644             Vietnam      Asia  1952   40.412  26246839   605.066492\n",
      "1656  West Bank and Gaza      Asia  1952   43.160   1030585  1515.592329\n",
      "1668         Yemen, Rep.      Asia  1952   32.548   4963829   781.717576\n",
      "1680              Zambia    Africa  1952   42.038   2672000  1147.388831\n",
      "1692            Zimbabwe    Africa  1952   48.451   3080907   406.884115\n",
      "\n",
      "[142 rows x 6 columns])\n",
      "(1957,                  country continent  year  lifeExp       pop    gdpPercap\n",
      "1            Afghanistan      Asia  1957   30.332   9240934   820.853030\n",
      "13               Albania    Europe  1957   59.280   1476505  1942.284244\n",
      "25               Algeria    Africa  1957   45.685  10270856  3013.976023\n",
      "37                Angola    Africa  1957   31.999   4561361  3827.940465\n",
      "49             Argentina  Americas  1957   64.399  19610538  6856.856212\n",
      "...                  ...       ...   ...      ...       ...          ...\n",
      "1645             Vietnam      Asia  1957   42.887  28998543   676.285448\n",
      "1657  West Bank and Gaza      Asia  1957   45.671   1070439  1827.067742\n",
      "1669         Yemen, Rep.      Asia  1957   33.970   5498090   804.830455\n",
      "1681              Zambia    Africa  1957   44.077   3016000  1311.956766\n",
      "1693            Zimbabwe    Africa  1957   50.469   3646340   518.764268\n",
      "\n",
      "[142 rows x 6 columns])\n",
      "(1962,                  country continent  year  lifeExp       pop    gdpPercap\n",
      "2            Afghanistan      Asia  1962   31.997  10267083   853.100710\n",
      "14               Albania    Europe  1962   64.820   1728137  2312.888958\n",
      "26               Algeria    Africa  1962   48.303  11000948  2550.816880\n",
      "38                Angola    Africa  1962   34.000   4826015  4269.276742\n",
      "50             Argentina  Americas  1962   65.142  21283783  7133.166023\n",
      "...                  ...       ...   ...      ...       ...          ...\n",
      "1646             Vietnam      Asia  1962   45.363  33796140   772.049160\n",
      "1658  West Bank and Gaza      Asia  1962   48.127   1133134  2198.956312\n",
      "1670         Yemen, Rep.      Asia  1962   35.180   6120081   825.623201\n",
      "1682              Zambia    Africa  1962   46.023   3421000  1452.725766\n",
      "1694            Zimbabwe    Africa  1962   52.358   4277736   527.272182\n",
      "\n",
      "[142 rows x 6 columns])\n",
      "(1967,                  country continent  year  lifeExp       pop    gdpPercap\n",
      "3            Afghanistan      Asia  1967   34.020  11537966   836.197138\n",
      "15               Albania    Europe  1967   66.220   1984060  2760.196931\n",
      "27               Algeria    Africa  1967   51.407  12760499  3246.991771\n",
      "39                Angola    Africa  1967   35.985   5247469  5522.776375\n",
      "51             Argentina  Americas  1967   65.634  22934225  8052.953021\n",
      "...                  ...       ...   ...      ...       ...          ...\n",
      "1647             Vietnam      Asia  1967   47.838  39463910   637.123289\n",
      "1659  West Bank and Gaza      Asia  1967   51.631   1142636  2649.715007\n",
      "1671         Yemen, Rep.      Asia  1967   36.984   6740785   862.442146\n",
      "1683              Zambia    Africa  1967   47.768   3900000  1777.077318\n",
      "1695            Zimbabwe    Africa  1967   53.995   4995432   569.795071\n",
      "\n",
      "[142 rows x 6 columns])\n",
      "(1972,                  country continent  year  lifeExp       pop    gdpPercap\n",
      "4            Afghanistan      Asia  1972   36.088  13079460   739.981106\n",
      "16               Albania    Europe  1972   67.690   2263554  3313.422188\n",
      "28               Algeria    Africa  1972   54.518  14760787  4182.663766\n",
      "40                Angola    Africa  1972   37.928   5894858  5473.288005\n",
      "52             Argentina  Americas  1972   67.065  24779799  9443.038526\n",
      "...                  ...       ...   ...      ...       ...          ...\n",
      "1648             Vietnam      Asia  1972   50.254  44655014   699.501644\n",
      "1660  West Bank and Gaza      Asia  1972   56.532   1089572  3133.409277\n",
      "1672         Yemen, Rep.      Asia  1972   39.848   7407075  1265.047031\n",
      "1684              Zambia    Africa  1972   50.107   4506497  1773.498265\n",
      "1696            Zimbabwe    Africa  1972   55.635   5861135   799.362176\n",
      "\n",
      "[142 rows x 6 columns])\n",
      "(1977,                  country continent  year  lifeExp       pop     gdpPercap\n",
      "5            Afghanistan      Asia  1977   38.438  14880372    786.113360\n",
      "17               Albania    Europe  1977   68.930   2509048   3533.003910\n",
      "29               Algeria    Africa  1977   58.014  17152804   4910.416756\n",
      "41                Angola    Africa  1977   39.483   6162675   3008.647355\n",
      "53             Argentina  Americas  1977   68.481  26983828  10079.026740\n",
      "...                  ...       ...   ...      ...       ...           ...\n",
      "1649             Vietnam      Asia  1977   55.764  50533506    713.537120\n",
      "1661  West Bank and Gaza      Asia  1977   60.765   1261091   3682.831494\n",
      "1673         Yemen, Rep.      Asia  1977   44.175   8403990   1829.765177\n",
      "1685              Zambia    Africa  1977   51.386   5216550   1588.688299\n",
      "1697            Zimbabwe    Africa  1977   57.674   6642107    685.587682\n",
      "\n",
      "[142 rows x 6 columns])\n",
      "(1982,                  country continent  year  lifeExp       pop    gdpPercap\n",
      "6            Afghanistan      Asia  1982   39.854  12881816   978.011439\n",
      "18               Albania    Europe  1982   70.420   2780097  3630.880722\n",
      "30               Algeria    Africa  1982   61.368  20033753  5745.160213\n",
      "42                Angola    Africa  1982   39.942   7016384  2756.953672\n",
      "54             Argentina  Americas  1982   69.942  29341374  8997.897412\n",
      "...                  ...       ...   ...      ...       ...          ...\n",
      "1650             Vietnam      Asia  1982   58.816  56142181   707.235786\n",
      "1662  West Bank and Gaza      Asia  1982   64.406   1425876  4336.032082\n",
      "1674         Yemen, Rep.      Asia  1982   49.113   9657618  1977.557010\n",
      "1686              Zambia    Africa  1982   51.821   6100407  1408.678565\n",
      "1698            Zimbabwe    Africa  1982   60.363   7636524   788.855041\n",
      "\n",
      "[142 rows x 6 columns])\n",
      "(1987,                  country continent  year  lifeExp       pop    gdpPercap\n",
      "7            Afghanistan      Asia  1987   40.822  13867957   852.395945\n",
      "19               Albania    Europe  1987   72.000   3075321  3738.932735\n",
      "31               Algeria    Africa  1987   65.799  23254956  5681.358539\n",
      "43                Angola    Africa  1987   39.906   7874230  2430.208311\n",
      "55             Argentina  Americas  1987   70.774  31620918  9139.671389\n",
      "...                  ...       ...   ...      ...       ...          ...\n",
      "1651             Vietnam      Asia  1987   62.820  62826491   820.799445\n",
      "1663  West Bank and Gaza      Asia  1987   67.046   1691210  5107.197384\n",
      "1675         Yemen, Rep.      Asia  1987   52.922  11219340  1971.741538\n",
      "1687              Zambia    Africa  1987   50.821   7272406  1213.315116\n",
      "1699            Zimbabwe    Africa  1987   62.351   9216418   706.157306\n",
      "\n",
      "[142 rows x 6 columns])\n",
      "(1992,                  country continent  year  lifeExp       pop    gdpPercap\n",
      "8            Afghanistan      Asia  1992   41.674  16317921   649.341395\n",
      "20               Albania    Europe  1992   71.581   3326498  2497.437901\n",
      "32               Algeria    Africa  1992   67.744  26298373  5023.216647\n",
      "44                Angola    Africa  1992   40.647   8735988  2627.845685\n",
      "56             Argentina  Americas  1992   71.868  33958947  9308.418710\n",
      "...                  ...       ...   ...      ...       ...          ...\n",
      "1652             Vietnam      Asia  1992   67.662  69940728   989.023149\n",
      "1664  West Bank and Gaza      Asia  1992   69.718   2104779  6017.654756\n",
      "1676         Yemen, Rep.      Asia  1992   55.599  13367997  1879.496673\n",
      "1688              Zambia    Africa  1992   46.100   8381163  1210.884633\n",
      "1700            Zimbabwe    Africa  1992   60.377  10704340   693.420786\n",
      "\n",
      "[142 rows x 6 columns])\n",
      "(1997,                  country continent  year  lifeExp       pop     gdpPercap\n",
      "9            Afghanistan      Asia  1997   41.763  22227415    635.341351\n",
      "21               Albania    Europe  1997   72.950   3428038   3193.054604\n",
      "33               Algeria    Africa  1997   69.152  29072015   4797.295051\n",
      "45                Angola    Africa  1997   40.963   9875024   2277.140884\n",
      "57             Argentina  Americas  1997   73.275  36203463  10967.281950\n",
      "...                  ...       ...   ...      ...       ...           ...\n",
      "1653             Vietnam      Asia  1997   70.672  76048996   1385.896769\n",
      "1665  West Bank and Gaza      Asia  1997   71.096   2826046   7110.667619\n",
      "1677         Yemen, Rep.      Asia  1997   58.020  15826497   2117.484526\n",
      "1689              Zambia    Africa  1997   40.238   9417789   1071.353818\n",
      "1701            Zimbabwe    Africa  1997   46.809  11404948    792.449960\n",
      "\n",
      "[142 rows x 6 columns])\n",
      "(2002,                  country continent  year  lifeExp       pop    gdpPercap\n",
      "10           Afghanistan      Asia  2002   42.129  25268405   726.734055\n",
      "22               Albania    Europe  2002   75.651   3508512  4604.211737\n",
      "34               Algeria    Africa  2002   70.994  31287142  5288.040382\n",
      "46                Angola    Africa  2002   41.003  10866106  2773.287312\n",
      "58             Argentina  Americas  2002   74.340  38331121  8797.640716\n",
      "...                  ...       ...   ...      ...       ...          ...\n",
      "1654             Vietnam      Asia  2002   73.017  80908147  1764.456677\n",
      "1666  West Bank and Gaza      Asia  2002   72.370   3389578  4515.487575\n",
      "1678         Yemen, Rep.      Asia  2002   60.308  18701257  2234.820827\n",
      "1690              Zambia    Africa  2002   39.193  10595811  1071.613938\n",
      "1702            Zimbabwe    Africa  2002   39.989  11926563   672.038623\n",
      "\n",
      "[142 rows x 6 columns])\n",
      "(2007,                  country continent  year  lifeExp       pop     gdpPercap\n",
      "11           Afghanistan      Asia  2007   43.828  31889923    974.580338\n",
      "23               Albania    Europe  2007   76.423   3600523   5937.029526\n",
      "35               Algeria    Africa  2007   72.301  33333216   6223.367465\n",
      "47                Angola    Africa  2007   42.731  12420476   4797.231267\n",
      "59             Argentina  Americas  2007   75.320  40301927  12779.379640\n",
      "...                  ...       ...   ...      ...       ...           ...\n",
      "1655             Vietnam      Asia  2007   74.249  85262356   2441.576404\n",
      "1667  West Bank and Gaza      Asia  2007   73.422   4018332   3025.349798\n",
      "1679         Yemen, Rep.      Asia  2007   62.698  22211743   2280.769906\n",
      "1691              Zambia    Africa  2007   42.384  11746035   1271.211593\n",
      "1703            Zimbabwe    Africa  2007   43.487  12311143    469.709298\n",
      "\n",
      "[142 rows x 6 columns])\n"
     ]
    }
   ],
   "source": [
    "for xx in df.groupby(\"year\"):\n",
    "    print(xx)"
   ]
  },
  {
   "cell_type": "code",
   "execution_count": 92,
   "id": "5934e182-e38f-442f-86c1-aeb0cc0ba045",
   "metadata": {},
   "outputs": [],
   "source": [
    "global_yearly_life_expectancy = df.groupby(\"year\")[\"lifeExp\"].mean()"
   ]
  },
  {
   "cell_type": "code",
   "execution_count": 94,
   "id": "96186635-2d49-474a-b573-458381b2743c",
   "metadata": {},
   "outputs": [
    {
     "data": {
      "text/plain": [
       "<AxesSubplot:xlabel='year'>"
      ]
     },
     "execution_count": 94,
     "metadata": {},
     "output_type": "execute_result"
    },
    {
     "data": {
      "image/png": "[encoded data removed]",
      "text/plain": [
       "<Figure size 432x288 with 1 Axes>"
      ]
     },
     "metadata": {
      "needs_background": "light"
     },
     "output_type": "display_data"
    }
   ],
   "source": [
    "global_yearly_life_expectancy.plot()"
   ]
  },
  {
   "cell_type": "code",
   "execution_count": 95,
   "id": "6c3640ef-b74d-4208-ad52-5fb6d2f3534d",
   "metadata": {},
   "outputs": [],
   "source": [
    "s = pd.Series([\"banana\", 43])"
   ]
  },
  {
   "cell_type": "code",
   "execution_count": 96,
   "id": "cd1e77b9-de1a-421f-85b9-8fc32ac3707a",
   "metadata": {},
   "outputs": [
    {
     "name": "stdout",
     "output_type": "stream",
     "text": [
      "0    banana\n",
      "1        43\n",
      "dtype: object\n"
     ]
    }
   ],
   "source": [
    "print(s)"
   ]
  },
  {
   "cell_type": "code",
   "execution_count": 98,
   "id": "b850bdb6-e9ad-44b4-983c-0f1511e6c077",
   "metadata": {},
   "outputs": [],
   "source": [
    "s = pd.Series([\"Micke\", \"Mouse\"], index=[\"a\", \"b\"])"
   ]
  },
  {
   "cell_type": "code",
   "execution_count": 99,
   "id": "17883505-005e-42f3-ae2d-68ba993e110e",
   "metadata": {},
   "outputs": [
    {
     "name": "stdout",
     "output_type": "stream",
     "text": [
      "a    Micke\n",
      "b    Mouse\n",
      "dtype: object\n"
     ]
    }
   ],
   "source": [
    "print(s)"
   ]
  },
  {
   "cell_type": "code",
   "execution_count": null,
   "id": "c8a6bcb2-3d7a-4196-88d4-19e239401b84",
   "metadata": {},
   "outputs": [],
   "source": []
  }
 ],
 "metadata": {
  "kernelspec": {
   "display_name": "Python 3",
   "language": "python",
   "name": "python3"
  },
  "language_info": {
   "codemirror_mode": {
    "name": "ipython",
    "version": 3
   },
   "file_extension": ".py",
   "mimetype": "text/x-python",
   "name": "python",
   "nbconvert_exporter": "python",
   "pygments_lexer": "ipython3",
   "version": "3.8.8"
  }
 },
 "nbformat": 4,
 "nbformat_minor": 5
}
