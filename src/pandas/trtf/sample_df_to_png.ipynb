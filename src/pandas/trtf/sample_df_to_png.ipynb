{
 "cells": [
  {
   "cell_type": "code",
   "execution_count": 1,
   "id": "7e4fdbce-2a9f-47b4-b237-37d72f6a949f",
   "metadata": {},
   "outputs": [
    {
     "name": "stdout",
     "output_type": "stream",
     "text": [
      "defaultdict(<class 'list'>, {'tr': [57.0, 59.0, 55.0, 53.0, 53.0, 53.0, 53.0], 'tf': [43.0, 45.0, 47.0, 42.0, 42.0, 42.0, 42.0], 'duty': [49.2, 49.3, 50.1, 52.0, 52.0, 52.0, 52.0]})\n"
     ]
    },
    {
     "data": {
      "image/png": "[encoded data removed]",
      "text/plain": [
       "<Figure size 576x288 with 1 Axes>"
      ]
     },
     "metadata": {
      "needs_background": "light"
     },
     "output_type": "display_data"
    },
    {
     "data": {
      "image/png": "[encoded data removed]",
      "text/plain": [
       "<Figure size 576x288 with 1 Axes>"
      ]
     },
     "metadata": {
      "needs_background": "light"
     },
     "output_type": "display_data"
    }
   ],
   "source": [
    "import csv\n",
    "from collections import OrderedDict, defaultdict\n",
    "\n",
    "import matplotlib.pyplot as plt\n",
    "\n",
    "import pandas as pd\n",
    "\n",
    "\n",
    "class DataFrameToPng:\n",
    "    def __init__(self, fontsize):\n",
    "        self.fontsize = fontsize\n",
    "\n",
    "    def make_graph(self, df, ylim, xlabel=\"\", ylabel=\"\", style=[\"bo\"]):\n",
    "        self.df = df\n",
    "\n",
    "        fig = plt.figure(figsize=(8, 4))\n",
    "        ax = fig.add_subplot(1, 1, 1)\n",
    "        ax.yaxis.set_major_formatter(plt.FormatStrFormatter(\"%.1f\"))\n",
    "        ax.set_ylabel(ylabel, fontsize=self.fontsize)\n",
    "        ax.set_xlabel(xlabel, fontsize=self.fontsize)\n",
    "        self.df.plot(ax=ax, ylim=ylim, style=style, legend=True, fontsize=self.fontsize)\n",
    "        ax.legend(fontsize=self.fontsize)\n",
    "        ax.grid(axis=\"y\")\n",
    "\n",
    "    def save_graph(self, filename):\n",
    "        plt.savefig(filename + \".png\")\n",
    "\n",
    "\n",
    "if __name__ == \"__main__\":\n",
    "    index = []\n",
    "    data = defaultdict(list)\n",
    "    with open(\"data.csv\") as f:\n",
    "        for row in csv.reader(f):\n",
    "            index.append(row[0])\n",
    "            for i in range(1, len(row), 2):\n",
    "                data[row[i]].append(float(row[i + 1]))\n",
    "\n",
    "    print(data)\n",
    "\n",
    "    df_tr = pd.DataFrame(data[\"tr\"], index=index, columns=[\"tr\"])\n",
    "\n",
    "    df_to_png = DataFrameToPng(16)\n",
    "    df_to_png.make_graph(df=df_tr, ylim=[40, 70], ylabel=\"ps\", style=[\"yo\"])\n",
    "    df_to_png.save_graph(filename=\"xyz\")\n",
    "\n",
    "    data_trtf = OrderedDict()\n",
    "    data_trtf[\"tr\"] = data[\"tr\"]\n",
    "    data_trtf[\"tf\"] = data[\"tf\"]\n",
    "    df_trtf = pd.DataFrame(data_trtf, index=index, columns=[\"tr\", \"tf\"])\n",
    "    df_to_png.make_graph(df=df_trtf, ylim=[40, 70], ylabel=\"ps\", style=[\"yo\", \"bo\"])\n",
    "    df_to_png.save_graph(filename=\"trtf\")"
   ]
  },
  {
   "cell_type": "code",
   "execution_count": 8,
   "id": "c0031185-c066-4858-bab3-633e5a5ec6a9",
   "metadata": {},
   "outputs": [
    {
     "data": {
      "text/html": [
       "<div>\n",
       "<style scoped>\n",
       "    .dataframe tbody tr th:only-of-type {\n",
       "        vertical-align: middle;\n",
       "    }\n",
       "\n",
       "    .dataframe tbody tr th {\n",
       "        vertical-align: top;\n",
       "    }\n",
       "\n",
       "    .dataframe thead th {\n",
       "        text-align: right;\n",
       "    }\n",
       "</style>\n",
       "<table border=\"1\" class=\"dataframe\">\n",
       "  <thead>\n",
       "    <tr style=\"text-align: right;\">\n",
       "      <th></th>\n",
       "      <th>tr</th>\n",
       "    </tr>\n",
       "  </thead>\n",
       "  <tbody>\n",
       "    <tr>\n",
       "      <th>p1</th>\n",
       "      <td>57.0</td>\n",
       "    </tr>\n",
       "    <tr>\n",
       "      <th>p2</th>\n",
       "      <td>59.0</td>\n",
       "    </tr>\n",
       "    <tr>\n",
       "      <th>p3</th>\n",
       "      <td>55.0</td>\n",
       "    </tr>\n",
       "    <tr>\n",
       "      <th>p4</th>\n",
       "      <td>53.0</td>\n",
       "    </tr>\n",
       "    <tr>\n",
       "      <th>p4</th>\n",
       "      <td>53.0</td>\n",
       "    </tr>\n",
       "    <tr>\n",
       "      <th>p4</th>\n",
       "      <td>53.0</td>\n",
       "    </tr>\n",
       "    <tr>\n",
       "      <th>p4</th>\n",
       "      <td>53.0</td>\n",
       "    </tr>\n",
       "  </tbody>\n",
       "</table>\n",
       "</div>"
      ],
      "text/plain": [
       "      tr\n",
       "p1  57.0\n",
       "p2  59.0\n",
       "p3  55.0\n",
       "p4  53.0\n",
       "p4  53.0\n",
       "p4  53.0\n",
       "p4  53.0"
      ]
     },
     "execution_count": 8,
     "metadata": {},
     "output_type": "execute_result"
    }
   ],
   "source": []
  },
  {
   "cell_type": "code",
   "execution_count": null,
   "id": "2a5fc300-43d4-492e-9511-04d30c415c42",
   "metadata": {},
   "outputs": [],
   "source": []
  }
 ],
 "metadata": {
  "kernelspec": {
   "display_name": "Python 3",
   "language": "python",
   "name": "python3"
  },
  "language_info": {
   "codemirror_mode": {
    "name": "ipython",
    "version": 3
   },
   "file_extension": ".py",
   "mimetype": "text/x-python",
   "name": "python",
   "nbconvert_exporter": "python",
   "pygments_lexer": "ipython3",
   "version": "3.8.8"
  }
 },
 "nbformat": 4,
 "nbformat_minor": 5
}
