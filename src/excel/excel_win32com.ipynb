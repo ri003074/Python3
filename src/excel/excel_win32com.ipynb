{
 "cells": [
  {
   "cell_type": "markdown",
   "metadata": {},
   "source": [
    "### 基本"
   ]
  },
  {
   "cell_type": "code",
   "execution_count": 1,
   "metadata": {},
   "outputs": [],
   "source": [
    "import win32com.client, time, os\n",
    "from win32com.client import constants as c\n",
    "\n",
    "xl = win32com.client.Dispatch(\"Excel.Application\")\n",
    "xl.Visible = True\n",
    "\n",
    "wb = xl.Workbooks.Add()\n",
    "\n",
    "ws = wb.Worksheets(1)\n",
    "ws.Cells(1,1).Value = \"Hello World\"\n",
    "\n",
    "xl.DisplayAlerts = False\n",
    "\n",
    "wb.SaveAs(os.getcwd() + \"/basic.xlsx\")\n",
    "\n",
    "xl.DisplayAlerts = True\n",
    "xl.Quit()"
   ]
  },
  {
   "cell_type": "code",
   "execution_count": null,
   "metadata": {},
   "outputs": [],
   "source": []
  },
  {
   "cell_type": "markdown",
   "metadata": {},
   "source": [
    "### 起動中のエクセルを操作する(Book3を使う)"
   ]
  },
  {
   "cell_type": "code",
   "execution_count": 79,
   "metadata": {},
   "outputs": [],
   "source": [
    "xl = win32com.client.GetObject(Class=\"Excel.Application\")\n",
    "\n",
    "xl.Range(\"A1\").Value = \"hello\"\n",
    "\n",
    "xl.Windows(1).Top = 10\n",
    "xl.Windows(1).Left = 10"
   ]
  },
  {
   "cell_type": "code",
   "execution_count": null,
   "metadata": {},
   "outputs": [],
   "source": []
  },
  {
   "cell_type": "markdown",
   "metadata": {},
   "source": [
    "### グラフを作成する"
   ]
  },
  {
   "cell_type": "code",
   "execution_count": 80,
   "metadata": {},
   "outputs": [],
   "source": [
    "import win32com.client, time, os\n",
    "from win32com.client import constants as c\n",
    "\n",
    "xl = win32com.client.GetObject(Class=\"Excel.Application\")\n",
    "wb = xl.Workbooks(1)"
   ]
  },
  {
   "cell_type": "code",
   "execution_count": 81,
   "metadata": {},
   "outputs": [],
   "source": [
    "\n",
    "ws = wb.Worksheets(1)"
   ]
  },
  {
   "cell_type": "code",
   "execution_count": 82,
   "metadata": {},
   "outputs": [],
   "source": [
    "ch = ws.Shapes.AddChart().Select()"
   ]
  },
  {
   "cell_type": "code",
   "execution_count": 83,
   "metadata": {},
   "outputs": [],
   "source": [
    "xl.ActiveChart.ChartType = c.xlXYScatterLines"
   ]
  },
  {
   "cell_type": "code",
   "execution_count": null,
   "metadata": {},
   "outputs": [],
   "source": []
  },
  {
   "cell_type": "code",
   "execution_count": 87,
   "metadata": {},
   "outputs": [],
   "source": [
    "import win32com.client\n",
    "from win32com.client import constants as c\n",
    "\n",
    "xl = win32com.client.gencache.EnsureDispatch('Excel.Application')\n",
    "xl.Visible = True\n",
    "wb = xl.Workbooks.Add()\n",
    "ws = xl.ActiveSheet\n",
    "ws.Range('A1').FormulaR1C1 = 'X'\n",
    "ws.Range('B1').FormulaR1C1 = 'Y'\n",
    "ws.Range('A2').FormulaR1C1 = 1\n",
    "ws.Range('A3').FormulaR1C1 = 2\n",
    "ws.Range('A4').FormulaR1C1 = 3\n",
    "ws.Range('B2').FormulaR1C1 = 4\n",
    "ws.Range('B3').FormulaR1C1 = 5\n",
    "ws.Range('B4').FormulaR1C1 = 6\n",
    "#ws.Range('A1:B4').Select()\n",
    "ch = ws.Shapes.AddChart().Select()\n",
    "xl.ActiveChart.ChartType = c.xlXYScatterLines\n",
    "xl.ActiveChart.SetSourceData(Source=ws.Range(\"A1:B4\"))\n",
    "#ch.Location(10,10) # something like this?\n"
   ]
  },
  {
   "cell_type": "code",
   "execution_count": 76,
   "metadata": {},
   "outputs": [],
   "source": []
  },
  {
   "cell_type": "code",
   "execution_count": 203,
   "metadata": {},
   "outputs": [],
   "source": [
    "import win32com.client\n",
    "from win32com.client import constants as c\n",
    "\n",
    "xl = win32com.client.gencache.EnsureDispatch('Excel.Application')\n",
    "xl.Visible = True\n",
    "wb = xl.Workbooks.Add()\n",
    "ws = xl.ActiveSheet\n",
    "#ws.Range('A1').FormulaR1C1 = 'X'\n",
    "ws.Range('B1').FormulaR1C1 = 'B'\n",
    "ws.Range('C1').FormulaR1C1 = 'C'\n",
    "ws.Range('A2').FormulaR1C1 = \"p1\"\n",
    "ws.Range('A3').FormulaR1C1 = \"p2\"\n",
    "ws.Range('A4').FormulaR1C1 = \"p3\"\n",
    "ws.Range('B2').FormulaR1C1 = 4\n",
    "ws.Range('B3').FormulaR1C1 = 5\n",
    "ws.Range('B4').FormulaR1C1 = 6\n",
    "ws.Range('C2').FormulaR1C1 = 7\n",
    "ws.Range('C3').FormulaR1C1 = 8\n",
    "ws.Range('C4').FormulaR1C1 = 9\n",
    "\n",
    "#ws.Range('A1:B4').Select()\n",
    "ch = ws.Shapes.AddChart().Select()\n",
    "xl.ActiveChart.ChartType = c.xlXYScatterLines\n",
    "# xl.ActiveChart.SetSourceData(Source=ws.Range(\"A1:B4\"))\n",
    "#ch.Location(10,10) # something like this?\n"
   ]
  },
  {
   "cell_type": "code",
   "execution_count": null,
   "metadata": {},
   "outputs": [],
   "source": []
  },
  {
   "cell_type": "code",
   "execution_count": 3,
   "metadata": {},
   "outputs": [],
   "source": [
    "xl = win32com.client.Dispatch(\"Excel.Application\")\n",
    "\n",
    "xl.Visible = True\n",
    "\n",
    "workbook = xl.Workbooks.Add()\n",
    "\n",
    "ws = workbook.Worksheets(1)\n",
    "\n",
    "ws.Activate()\n",
    "\n",
    "ws.Range(\"A2\").Select()\n",
    "\n",
    "ws.Cells(2,2).Select()\n",
    "\n",
    "ws.Cells.Select()\n",
    "\n",
    "ws.Cells(1,1).Value = 99\n",
    "ws.Cells(2,1).Value = 98\n",
    "ws.Cells(1,2).Value = 97\n",
    "\n",
    "ws.Range(\"A1\").Row\n",
    "\n",
    "ws.Range(\"A1\").Column\n",
    "\n",
    "xlUp = -4162\n",
    "lastrow = ws.Cells(ws.Rows.Count, 1).End(xlUp).Row\n",
    "\n",
    "lastrow\n",
    "\n",
    "xl.Quit()"
   ]
  },
  {
   "cell_type": "code",
   "execution_count": null,
   "metadata": {},
   "outputs": [],
   "source": []
  }
 ],
 "metadata": {
  "kernelspec": {
   "display_name": "Python 3",
   "language": "python",
   "name": "python3"
  },
  "language_info": {
   "codemirror_mode": {
    "name": "ipython",
    "version": 3
   },
   "file_extension": ".py",
   "mimetype": "text/x-python",
   "name": "python",
   "nbconvert_exporter": "python",
   "pygments_lexer": "ipython3",
   "version": "3.8.5"
  }
 },
 "nbformat": 4,
 "nbformat_minor": 4
}
