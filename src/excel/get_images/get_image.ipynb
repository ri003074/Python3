{
 "cells": [
  {
   "cell_type": "code",
   "execution_count": 57,
   "metadata": {},
   "outputs": [],
   "source": [
    "import win32com.client, time, os"
   ]
  },
  {
   "cell_type": "code",
   "execution_count": 58,
   "metadata": {},
   "outputs": [],
   "source": [
    "excel = win32com.client.Dispatch(\"Excel.Application\")"
   ]
  },
  {
   "cell_type": "code",
   "execution_count": 59,
   "metadata": {},
   "outputs": [],
   "source": [
    "excel.Visible = True"
   ]
  },
  {
   "cell_type": "code",
   "execution_count": 60,
   "metadata": {},
   "outputs": [],
   "source": [
    "excel.DisplayAlerts = False"
   ]
  },
  {
   "cell_type": "code",
   "execution_count": 65,
   "metadata": {},
   "outputs": [],
   "source": [
    "wb = excel.Workbooks.open(os.getcwd()+\"/sample.xlsx\")"
   ]
  },
  {
   "cell_type": "code",
   "execution_count": 66,
   "metadata": {},
   "outputs": [
    {
     "name": "stdout",
     "output_type": "stream",
     "text": [
      "Sheet:Chart 1\n",
      "Sheet:Chart 2\n"
     ]
    }
   ],
   "source": [
    "i = 0\n",
    "for sheet in wb.Worksheets:\n",
    "    for chartObject in sheet.ChartObjects():\n",
    "        print(sheet.Name + \":\" + chartObject.Name)\n",
    "        chartObject.Chart.Export(os.getcwd() + \"/chart\" + str(i) + \".png\")\n",
    "        i += 1"
   ]
  },
  {
   "cell_type": "code",
   "execution_count": 67,
   "metadata": {},
   "outputs": [],
   "source": [
    "wb.Close()"
   ]
  },
  {
   "cell_type": "code",
   "execution_count": 95,
   "metadata": {},
   "outputs": [],
   "source": [
    "excel.Quit()"
   ]
  },
  {
   "cell_type": "code",
   "execution_count": 101,
   "metadata": {},
   "outputs": [
    {
     "name": "stdout",
     "output_type": "stream",
     "text": [
      "Sheet:Chart 1\n",
      "Sheet:Chart 2\n"
     ]
    }
   ],
   "source": [
    "class GetImagesFromExcel:\n",
    "    def __init__(self, data_path, file):\n",
    "        self.data_path = data_path\n",
    "        self.file = file\n",
    "\n",
    "    def get_images(self):\n",
    "        excel = win32com.client.Dispatch(\"Excel.Application\")\n",
    "        excel.Visible = True\n",
    "        excel.DisplayAlerts = False\n",
    "        workbook = excel.Workbooks.open(self.data_path + self.file)\n",
    "        i = 0\n",
    "        for sheet in workbook.Worksheets:\n",
    "            for chartObject in sheet.ChartObjects():\n",
    "                print(sheet.Name + \":\" + chartObject.Name)\n",
    "                chartObject.Chart.Export(os.getcwd() + \"/chart\" + str(i) + \".png\")\n",
    "                i += 1\n",
    "        workbook.Close()\n",
    "        excel.Quit()\n",
    "\n",
    "\n",
    "if __name__ == \"__main__\":\n",
    "    getimage = GetImagesFromExcel(os.getcwd() + \"/\", \"sample.xlsx\")\n",
    "    getimage.get_images()"
   ]
  }
 ],
 "metadata": {
  "kernelspec": {
   "display_name": "Python 3",
   "language": "python",
   "name": "python3"
  },
  "language_info": {
   "codemirror_mode": {
    "name": "ipython",
    "version": 3
   },
   "file_extension": ".py",
   "mimetype": "text/x-python",
   "name": "python",
   "nbconvert_exporter": "python",
   "pygments_lexer": "ipython3",
   "version": "3.8.5"
  }
 },
 "nbformat": 4,
 "nbformat_minor": 4
}
